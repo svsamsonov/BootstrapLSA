{
 "cells": [
  {
   "cell_type": "code",
   "execution_count": 1,
   "id": "f2294d6b-a753-4c91-8d17-4a74c8a7197e",
   "metadata": {},
   "outputs": [],
   "source": [
    "import numpy as np\n",
    "import copy\n",
    "from multiprocessing import Pool\n",
    "import multiprocessing\n",
    "from scipy import stats\n",
    "from scipy.stats import norm\n",
    "import matplotlib.pyplot as plt\n",
    "import pickle \n",
    "%matplotlib inline"
   ]
  },
  {
   "cell_type": "code",
   "execution_count": 2,
   "id": "8c6be662-cd9b-4403-8f2f-aae3e0d16598",
   "metadata": {},
   "outputs": [],
   "source": [
    "def init_pi(N_a,N_s):\n",
    "    \"\"\"\n",
    "    function to generate policy,\n",
    "    inputs:\n",
    "        N_a - number of actions;\n",
    "        N_s - number of states;\n",
    "    outputs:\n",
    "        pi(a|s) - np.array of shape N_a x N_s\n",
    "    \"\"\"\n",
    "    np.random.seed(1453)\n",
    "    Pi_matr = np.random.uniform(0.0,1.0,(N_a,N_s))\n",
    "    norm_coef = Pi_matr.sum(axis=0)\n",
    "    Pi_matr = Pi_matr / norm_coef.reshape((1,N_s))\n",
    "    #check if stochastic\n",
    "    #print(Pi_matr.sum(axis=0))\n",
    "    return Pi_matr"
   ]
  },
  {
   "cell_type": "code",
   "execution_count": 3,
   "id": "90a49a35-6a18-474d-9c83-1f768cc2a6c7",
   "metadata": {},
   "outputs": [],
   "source": [
    "def generate_dynamics(N_a,N_s,b):\n",
    "    \"\"\"\n",
    "    function to generate transition probabilities,\n",
    "    inputs:\n",
    "        N_a - number of actions;\n",
    "        N_s - number of states;\n",
    "        b - branching number\n",
    "    outputs:\n",
    "        pi(s'|s,a) - np.array of shape N_s x N_s x N_a\n",
    "    \"\"\"\n",
    "    np.random.seed(1812)\n",
    "    inds_nonzero = np.zeros((N_s,N_a,b),dtype = int)\n",
    "    for i in range(N_s):\n",
    "        for j in range(N_a):\n",
    "            inds_nonzero[i,j] = np.random.choice(N_s, size=b, replace=False)\n",
    "    Pi_matr = np.zeros((N_s,N_s,N_a),dtype=float)\n",
    "    for i in range(N_s):\n",
    "        for j in range(N_a):\n",
    "            Pi_matr[inds_nonzero[i,j],i,j] = np.random.uniform(0.0,1.0,b)\n",
    "    norm_coef = Pi_matr.sum(axis=0)\n",
    "    Pi_matr = Pi_matr / norm_coef.reshape((1,N_s,N_a))\n",
    "    return Pi_matr,inds_nonzero"
   ]
  },
  {
   "cell_type": "code",
   "execution_count": 4,
   "id": "4f174ad9-4aaa-460a-9467-f1a7cc810bef",
   "metadata": {},
   "outputs": [],
   "source": [
    "def state_transitions(P,pi):\n",
    "    \"\"\"\n",
    "    function to generate transition probabilities,\n",
    "    inputs:\n",
    "        P(s'|s,a) - np.array of shape N_s x N_s x N_a, transition probabilities;\n",
    "        pi(a|s) - np.array of shape N_a x N_s, policy;\n",
    "    outputs:\n",
    "        p(s'|s) - transition probability matrix of shape (N_s,N_s)\n",
    "    \"\"\"\n",
    "    np.random.seed(1812)\n",
    "    P_s = np.zeros((N_s,N_s),dtype = float)\n",
    "    for i in range(N_s):\n",
    "        for j in range(N_s):\n",
    "            P_s[i,j] = np.dot(P[i,j,:],pi[:,j])\n",
    "    return P_s "
   ]
  },
  {
   "cell_type": "code",
   "execution_count": 5,
   "id": "e7a647c9-930b-468a-81b6-c6d0bae9027b",
   "metadata": {},
   "outputs": [],
   "source": [
    "def init_rewards(N_a,N_s):\n",
    "    \"\"\"\n",
    "    function to generate rewards,\n",
    "    inputs:\n",
    "        N_a - number of actions;\n",
    "        N_s - number of states;\n",
    "    outputs:\n",
    "        R(a,s) - np.array of rewards (shape N_a x N_s)  \n",
    "    \"\"\"\n",
    "    np.random.seed(1821)\n",
    "    R = Pi_matr = np.random.uniform(0.0,1.0,(N_a,N_s))\n",
    "    return R"
   ]
  },
  {
   "cell_type": "code",
   "execution_count": 6,
   "id": "519b9a92-383a-4a66-a3b8-65276ca4f35b",
   "metadata": {},
   "outputs": [],
   "source": [
    "#global constants\n",
    "#number of actions\n",
    "N_a = 2\n",
    "#number of states\n",
    "N_s = 10\n",
    "#gamma = 0.99\n",
    "gamma = 0.9\n",
    "#branching factor (external parameter for Garnet)\n",
    "branch = 3"
   ]
  },
  {
   "cell_type": "code",
   "execution_count": 7,
   "id": "16342fe4-7f52-41e3-b238-4bca80b979a9",
   "metadata": {},
   "outputs": [],
   "source": [
    "#init policy matrix\n",
    "Policy = init_pi(N_a,N_s)\n",
    "#init transition matrix\n",
    "P,Inds_nz = generate_dynamics(N_a,N_s,branch)\n",
    "#init rewards\n",
    "R = init_rewards(N_a,N_s)\n",
    "#init state transition matrix\n",
    "S_trans = state_transitions(P,Policy)"
   ]
  },
  {
   "cell_type": "markdown",
   "id": "c851d547-1e30-4459-91d9-6ca2e0be0a06",
   "metadata": {},
   "source": [
    "### Solve system to find $\\theta^*$ (i.e. true $V_{\\pi}(s)$)"
   ]
  },
  {
   "cell_type": "code",
   "execution_count": 8,
   "id": "cc67e1d5-cbf3-48fb-8c53-942f66d2d4f5",
   "metadata": {},
   "outputs": [
    {
     "name": "stdout",
     "output_type": "stream",
     "text": [
      "[0.71889809 0.56176203 0.7028568  0.58086509 0.11065385 0.48332232\n",
      " 0.34350863 0.70097716 0.55115417 0.51374463]\n",
      "[5.27220987 5.22225305 5.43806472 5.27366874 4.83310775 5.03090872\n",
      " 5.08173115 5.26029066 5.11108826 5.19779703]\n"
     ]
    }
   ],
   "source": [
    "#system matrix\n",
    "A = np.eye(N_s) - gamma*(S_trans.T)\n",
    "#right hand side\n",
    "b = np.sum(Policy*R,axis=0)\n",
    "theta_star = np.linalg.inv(A) @ b\n",
    "print(b)\n",
    "print(theta_star)"
   ]
  },
  {
   "cell_type": "markdown",
   "id": "f2f9d5c3-301b-43b8-9bba-3c72595c5aec",
   "metadata": {},
   "source": [
    "### Find stationary distribution over state space"
   ]
  },
  {
   "cell_type": "code",
   "execution_count": 9,
   "id": "5356e088-9f9a-4378-acb9-28a72ea05fc3",
   "metadata": {},
   "outputs": [
    {
     "name": "stdout",
     "output_type": "stream",
     "text": [
      "[ 1.        +0.j          0.04375658+0.41636321j  0.04375658-0.41636321j\n",
      " -0.26498642+0.j         -0.16641571+0.19627497j -0.16641571-0.19627497j\n",
      "  0.18278929+0.j          0.14418946+0.08057296j  0.14418946-0.08057296j\n",
      "  0.0729122 +0.j        ]\n",
      "[0.061358   0.12973764 0.12527139 0.14823597 0.09849189 0.04864512\n",
      " 0.14811634 0.07481129 0.11326694 0.05206541]\n",
      "1.0\n"
     ]
    }
   ],
   "source": [
    "#note that in my notations they are usual (right) eigenvalues\n",
    "eigvals, eigfuncs = np.linalg.eig(S_trans)\n",
    "print(eigvals)\n",
    "pi_states = -np.real(eigfuncs[:,0])\n",
    "pi_states = pi_states/np.sum(pi_states)\n",
    "#pi_states - statinary distribution over states\n",
    "print(pi_states)\n",
    "print(np.sum(pi_states))"
   ]
  },
  {
   "cell_type": "code",
   "execution_count": 10,
   "id": "2fe79edb-35dc-43fc-8cfe-c66a97a16022",
   "metadata": {},
   "outputs": [
    {
     "name": "stdout",
     "output_type": "stream",
     "text": [
      "[[0.00161236 0.         0.         0.         0.         0.\n",
      "  0.         0.         0.         0.        ]\n",
      " [0.         0.00371063 0.         0.         0.         0.\n",
      "  0.         0.         0.         0.        ]\n",
      " [0.         0.         0.02791094 0.         0.         0.\n",
      "  0.         0.         0.         0.        ]\n",
      " [0.         0.         0.         0.00269599 0.         0.\n",
      "  0.         0.         0.         0.        ]\n",
      " [0.         0.         0.         0.         0.00171354 0.\n",
      "  0.         0.         0.         0.        ]\n",
      " [0.         0.         0.         0.         0.         0.00254726\n",
      "  0.         0.         0.         0.        ]\n",
      " [0.         0.         0.         0.         0.         0.\n",
      "  0.00806724 0.         0.         0.        ]\n",
      " [0.         0.         0.         0.         0.         0.\n",
      "  0.         0.00331585 0.         0.        ]\n",
      " [0.         0.         0.         0.         0.         0.\n",
      "  0.         0.         0.00275466 0.        ]\n",
      " [0.         0.         0.         0.         0.         0.\n",
      "  0.         0.         0.         0.00047409]]\n"
     ]
    }
   ],
   "source": [
    "#calculate covariance matrix Sigma_epsilon\n",
    "Sigma_eps = np.zeros((N_s,N_s),dtype=float)\n",
    "for s0 in range(N_s):\n",
    "    for s in range(N_s):\n",
    "        for a in range(N_a):\n",
    "            eps = np.zeros(N_s,dtype=float)\n",
    "            eps[s0] = R[a,s0] + gamma*theta_star[s]-theta_star[s0]\n",
    "            eps_upd = eps.reshape((-1,1)) @ eps.reshape((1,-1))\n",
    "            #averaging\n",
    "            Sigma_eps += pi_states[s0]*Policy[a,s0]*P[s,s0,a]*eps_upd\n",
    "#print estimated covariance matrix\n",
    "print(Sigma_eps)"
   ]
  },
  {
   "cell_type": "markdown",
   "id": "3bcf0d19-e047-483e-a2ce-8291a69fd640",
   "metadata": {},
   "source": [
    "### Find $\\theta^*$ by another approach"
   ]
  },
  {
   "cell_type": "code",
   "execution_count": 11,
   "id": "a3419a73-0f30-45f1-833f-732481e7e438",
   "metadata": {},
   "outputs": [
    {
     "name": "stdout",
     "output_type": "stream",
     "text": [
      "error between different ways of calculating thetas star 1.130466570252318e-14\n"
     ]
    }
   ],
   "source": [
    "A_star = np.zeros((N_s,N_s),dtype=float)\n",
    "for i in range(N_s):\n",
    "    for j in range(N_s):\n",
    "        A_star[i,j] = pi_states[i]*S_trans[j,i]\n",
    "A_star = np.diag(pi_states) - gamma*A_star\n",
    "b_star = b*pi_states\n",
    "theta_star_new = np.linalg.inv(A_star) @ b_star\n",
    "print(\"error between different ways of calculating thetas star\",np.linalg.norm(theta_star-theta_star_new))"
   ]
  },
  {
   "cell_type": "code",
   "execution_count": 12,
   "id": "c00d0359-e948-4b22-95d6-e92b75853f85",
   "metadata": {},
   "outputs": [],
   "source": [
    "#Run TD(0) algorithm\n",
    "N_iters = 2*10**6\n",
    "v0 = 5*np.ones(N_s,dtype=float)\n",
    "s0 = np.random.choice(N_s)\n",
    "#step size\n",
    "c0 = 4.0\n",
    "alpha = np.zeros(N_iters,dtype=float)\n",
    "for i in range(N_iters):\n",
    "    alpha[i] = c0/np.sqrt(i+1)"
   ]
  },
  {
   "cell_type": "markdown",
   "id": "090c024a-7cb8-433e-80fb-afef60d7e150",
   "metadata": {},
   "source": [
    "### Check quality of normal approximation"
   ]
  },
  {
   "cell_type": "code",
   "execution_count": 35,
   "id": "ed8d203d-419d-4f84-868b-6bbf01cf8604",
   "metadata": {},
   "outputs": [
    {
     "name": "stdout",
     "output_type": "stream",
     "text": [
      "(10, 163840, 10)\n"
     ]
    },
    {
     "data": {
      "text/plain": [
       "dtype('float64')"
      ]
     },
     "execution_count": 35,
     "metadata": {},
     "output_type": "execute_result"
    }
   ],
   "source": [
    "print(res_pr.shape)\n",
    "res_pr.dtype"
   ]
  },
  {
   "cell_type": "code",
   "execution_count": 21,
   "id": "07d8fb90-f72b-4497-8a2e-2b3f6f9721fc",
   "metadata": {},
   "outputs": [
    {
     "name": "stdout",
     "output_type": "stream",
     "text": [
      "(163840, 10)\n",
      "(163840, 10)\n",
      "(163840, 10)\n",
      "(163840, 10)\n",
      "(163840, 10)\n",
      "(163840, 10)\n",
      "(163840, 10)\n",
      "(163840, 10)\n",
      "(163840, 10)\n",
      "(163840, 10)\n"
     ]
    }
   ],
   "source": [
    "np.random.seed(2024)\n",
    "#choose number of iterations\n",
    "N_iters = [200,400,800,1600,3200,6400,12800,25600,51200,102400]\n",
    "\n",
    "#generate random direction\n",
    "U = np.random.randn(N_s)\n",
    "u = U/np.linalg.norm(U)\n",
    "#compute the emirical CDF \n",
    "res_pr = np.load(\"result/PR_V_iter=307200,seed=2024,alpha=0.5,N_traj=163840,N_iters=102400.npy\")\n",
    "pr_samples = []\n",
    "\n",
    "for i in range(len(N_iters)):\n",
    "    print(res_pr[i].shape)\n",
    "    norm_samples = np.sqrt(N_iters[i])*A_star @ (res_pr[i] - theta_star.reshape((1,-1))).transpose()\n",
    "    pr_samples.append(norm_samples)"
   ]
  },
  {
   "cell_type": "code",
   "execution_count": 28,
   "id": "34ef86c8-de5a-4966-a433-be70d5b36312",
   "metadata": {},
   "outputs": [
    {
     "data": {
      "text/plain": [
       "array([[-0.00225602,  0.00174693, -0.02679395, ..., -0.02738779,\n",
       "        -0.0468154 , -0.04518233],\n",
       "       [-0.02290576,  0.10492261,  0.06820008, ..., -0.04127685,\n",
       "         0.04341928, -0.03295442],\n",
       "       [ 0.13954348, -0.08212541,  0.10659229, ...,  0.2429698 ,\n",
       "        -0.06782192,  0.05847833],\n",
       "       ...,\n",
       "       [-0.02640961, -0.03497997, -0.07756362, ..., -0.08923083,\n",
       "        -0.10084474, -0.02906413],\n",
       "       [-0.04471603, -0.04350765, -0.04172802, ..., -0.02821947,\n",
       "        -0.0066639 ,  0.09830373],\n",
       "       [-0.01225248, -0.04303418, -0.00083474, ...,  0.00304918,\n",
       "        -0.03099559,  0.00461233]])"
      ]
     },
     "execution_count": 28,
     "metadata": {},
     "output_type": "execute_result"
    }
   ],
   "source": [
    "pr_samples[5]"
   ]
  },
  {
   "cell_type": "code",
   "execution_count": 16,
   "id": "8ac02e58-e3b8-4eeb-80b7-8d3935a91149",
   "metadata": {},
   "outputs": [
    {
     "name": "stdout",
     "output_type": "stream",
     "text": [
      "(10, 163840)\n"
     ]
    }
   ],
   "source": [
    "sample = []\n",
    "for i in range(len(N_iters)):\n",
    "    err_proj = pr_samples[i].transpose() @ u\n",
    "    sample.append(err_proj)\n",
    "sample = np.asarray(sample)\n",
    "print(sample.shape)"
   ]
  },
  {
   "cell_type": "code",
   "execution_count": 17,
   "id": "2216cace-6c1d-445e-a31b-49c3cfb00981",
   "metadata": {},
   "outputs": [],
   "source": [
    "N_traj = 163840\n",
    "\n",
    "all_ks = []\n",
    "loc = 0.0\n",
    "scale = (Sigma_eps @ u).dot(u)\n",
    "for i in range(len(N_iters)):\n",
    "    sample_sort = np.sort(sample[i])\n",
    "    ecdf = np.linspace(0,1,N_traj+1)\n",
    "    cdfs = norm.cdf(sample_sort, loc = 0, scale = np.sqrt(scale))\n",
    "    ks_dist = max([(ecdf[1:] - cdfs).max(), (cdfs - ecdf[:-1]).max()])\n",
    "    all_ks.append(ks_dist)"
   ]
  },
  {
   "cell_type": "code",
   "execution_count": 20,
   "id": "3cf57b4a-7c5e-4f22-b98d-e374e4bfadae",
   "metadata": {},
   "outputs": [
    {
     "name": "stdout",
     "output_type": "stream",
     "text": [
      "[0.23250917649331776, 0.172291799670936, 0.11365274128737313, 0.06471137290618645, 0.031300861630547516, 0.014299627299976692, 0.005199041858458764, 0.00311437617561805, 0.0038341079419312862, 1.0]\n"
     ]
    }
   ],
   "source": [
    "print(all_ks)"
   ]
  },
  {
   "cell_type": "code",
   "execution_count": 30,
   "id": "de2a5826-a457-474e-9a44-807dd683a111",
   "metadata": {},
   "outputs": [
    {
     "name": "stdout",
     "output_type": "stream",
     "text": [
      "[200, 400, 800, 1600, 3200, 6400, 12800, 25600, 51200]\n"
     ]
    }
   ],
   "source": [
    "N_iters_new = N_iters[:-1]\n",
    "print(N_iters_new)"
   ]
  },
  {
   "cell_type": "code",
   "execution_count": 32,
   "id": "890d0745-0f8f-49a9-9523-8050a1d005de",
   "metadata": {},
   "outputs": [
    {
     "data": {
      "image/png": "[encoded data removed]",
      "text/plain": [
       "<Figure size 1200x800 with 1 Axes>"
      ]
     },
     "metadata": {},
     "output_type": "display_data"
    }
   ],
   "source": [
    "#plot last iterate\n",
    "N_iters_new = np.asarray(N_iters_new,dtype=float)\n",
    "plt.figure(figsize=(12,8)) \n",
    "plt.plot(N_iters_new, (N_iters_new**0.25)*all_ks[:-1], linestyle='--', marker='o', color='r', label='Kolmogorov distance, rescaled by $n^{1/4}$') \n",
    "plt.plot(N_iters_new, (N_iters_new**0.5)*all_ks[:-1], linestyle='--', marker='o', color='b', label='Kolmogorov distance, rescaled by $\\sqrt{n}$') \n",
    "plt.xlabel('number of trajectories',fontsize = 18)\n",
    "plt.xscale('log')\n",
    "#plt.yscale('log')\n",
    "plt.legend(fontsize=18)\n",
    "plt.savefig(\"test_kolmogorov_dist_18_05_small.pdf\")\n",
    "plt.show()"
   ]
  },
  {
   "cell_type": "code",
   "execution_count": null,
   "id": "c920e924-06e4-4814-b8b2-bca1dbcaef40",
   "metadata": {},
   "outputs": [],
   "source": []
  }
 ],
 "metadata": {
  "kernelspec": {
   "display_name": "Python 3 (ipykernel)",
   "language": "python",
   "name": "python3"
  },
  "language_info": {
   "codemirror_mode": {
    "name": "ipython",
    "version": 3
   },
   "file_extension": ".py",
   "mimetype": "text/x-python",
   "name": "python",
   "nbconvert_exporter": "python",
   "pygments_lexer": "ipython3",
   "version": "3.9.15"
  }
 },
 "nbformat": 4,
 "nbformat_minor": 5
}
