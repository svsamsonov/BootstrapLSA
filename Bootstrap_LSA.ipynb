{
 "cells": [
  {
   "cell_type": "code",
   "execution_count": 29,
   "metadata": {},
   "outputs": [],
   "source": [
    "import numpy as np\n",
    "import copy\n",
    "from multiprocessing import Pool\n",
    "import multiprocessing\n",
    "from scipy import stats\n",
    "from scipy.stats import norm\n",
    "import matplotlib.pyplot as plt\n",
    "import pickle \n",
    "%matplotlib inline"
   ]
  },
  {
   "cell_type": "code",
   "execution_count": 30,
   "metadata": {},
   "outputs": [],
   "source": [
    "def init_pi(N_a,N_s):\n",
    "    \"\"\"\n",
    "    function to generate policy,\n",
    "    inputs:\n",
    "        N_a - number of actions;\n",
    "        N_s - number of states;\n",
    "    outputs:\n",
    "        pi(a|s) - np.array of shape N_a x N_s\n",
    "    \"\"\"\n",
    "    np.random.seed(1453)\n",
    "    Pi_matr = np.random.uniform(0.0,1.0,(N_a,N_s))\n",
    "    norm_coef = Pi_matr.sum(axis=0)\n",
    "    Pi_matr = Pi_matr / norm_coef.reshape((1,N_s))\n",
    "    #check if stochastic\n",
    "    #print(Pi_matr.sum(axis=0))\n",
    "    return Pi_matr"
   ]
  },
  {
   "cell_type": "code",
   "execution_count": 31,
   "metadata": {},
   "outputs": [],
   "source": [
    "def generate_dynamics(N_a,N_s,b):\n",
    "    \"\"\"\n",
    "    function to generate transition probabilities,\n",
    "    inputs:\n",
    "        N_a - number of actions;\n",
    "        N_s - number of states;\n",
    "        b - branching number\n",
    "    outputs:\n",
    "        pi(s'|s,a) - np.array of shape N_s x N_s x N_a\n",
    "    \"\"\"\n",
    "    np.random.seed(1812)\n",
    "    inds_nonzero = np.zeros((N_s,N_a,b),dtype = int)\n",
    "    for i in range(N_s):\n",
    "        for j in range(N_a):\n",
    "            inds_nonzero[i,j] = np.random.choice(N_s, size=b, replace=False)\n",
    "    Pi_matr = np.zeros((N_s,N_s,N_a),dtype=float)\n",
    "    for i in range(N_s):\n",
    "        for j in range(N_a):\n",
    "            Pi_matr[inds_nonzero[i,j],i,j] = np.random.uniform(0.0,1.0,b)\n",
    "    norm_coef = Pi_matr.sum(axis=0)\n",
    "    Pi_matr = Pi_matr / norm_coef.reshape((1,N_s,N_a))\n",
    "    return Pi_matr,inds_nonzero"
   ]
  },
  {
   "cell_type": "code",
   "execution_count": 32,
   "metadata": {},
   "outputs": [],
   "source": [
    "def state_transitions(P,pi):\n",
    "    \"\"\"\n",
    "    function to generate transition probabilities,\n",
    "    inputs:\n",
    "        P(s'|s,a) - np.array of shape N_s x N_s x N_a, transition probabilities;\n",
    "        pi(a|s) - np.array of shape N_a x N_s, policy;\n",
    "    outputs:\n",
    "        p(s'|s) - transition probability matrix of shape (N_s,N_s)\n",
    "    \"\"\"\n",
    "    np.random.seed(1812)\n",
    "    P_s = np.zeros((N_s,N_s),dtype = float)\n",
    "    for i in range(N_s):\n",
    "        for j in range(N_s):\n",
    "            P_s[i,j] = np.dot(P[i,j,:],pi[:,j])\n",
    "    return P_s "
   ]
  },
  {
   "cell_type": "code",
   "execution_count": 33,
   "metadata": {},
   "outputs": [],
   "source": [
    "def init_rewards(N_a,N_s):\n",
    "    \"\"\"\n",
    "    function to generate rewards,\n",
    "    inputs:\n",
    "        N_a - number of actions;\n",
    "        N_s - number of states;\n",
    "    outputs:\n",
    "        R(a,s) - np.array of rewards (shape N_a x N_s)  \n",
    "    \"\"\"\n",
    "    np.random.seed(1821)\n",
    "    R = Pi_matr = np.random.uniform(0.0,1.0,(N_a,N_s))\n",
    "    return R"
   ]
  },
  {
   "cell_type": "code",
   "execution_count": 34,
   "metadata": {},
   "outputs": [],
   "source": [
    "#global constants\n",
    "#number of actions\n",
    "N_a = 2\n",
    "#number of states\n",
    "N_s = 10\n",
    "#gamma = 0.99\n",
    "gamma = 0.9\n",
    "#branching factor (external parameter for Garnet)\n",
    "branch = 3"
   ]
  },
  {
   "cell_type": "code",
   "execution_count": 35,
   "metadata": {},
   "outputs": [],
   "source": [
    "#init policy matrix\n",
    "Policy = init_pi(N_a,N_s)\n",
    "#init transition matrix\n",
    "P,Inds_nz = generate_dynamics(N_a,N_s,branch)\n",
    "#init rewards\n",
    "R = init_rewards(N_a,N_s)\n",
    "#init state transition matrix\n",
    "S_trans = state_transitions(P,Policy)"
   ]
  },
  {
   "cell_type": "markdown",
   "metadata": {},
   "source": [
    "### Solve system to find $\\theta^*$ (i.e. true $V_{\\pi}(s)$)"
   ]
  },
  {
   "cell_type": "code",
   "execution_count": 36,
   "metadata": {},
   "outputs": [
    {
     "name": "stdout",
     "output_type": "stream",
     "text": [
      "[0.71889809 0.56176203 0.7028568  0.58086509 0.11065385 0.48332232\n",
      " 0.34350863 0.70097716 0.55115417 0.51374463]\n",
      "[5.27220987 5.22225305 5.43806472 5.27366874 4.83310775 5.03090872\n",
      " 5.08173115 5.26029066 5.11108826 5.19779703]\n"
     ]
    }
   ],
   "source": [
    "#system matrix\n",
    "A = np.eye(N_s) - gamma*(S_trans.T)\n",
    "#right hand side\n",
    "b = np.sum(Policy*R,axis=0)\n",
    "theta_star = np.linalg.inv(A) @ b\n",
    "print(b)\n",
    "print(theta_star)"
   ]
  },
  {
   "cell_type": "markdown",
   "metadata": {},
   "source": [
    "### Find stationary distribution over state space"
   ]
  },
  {
   "cell_type": "code",
   "execution_count": 37,
   "metadata": {},
   "outputs": [
    {
     "name": "stdout",
     "output_type": "stream",
     "text": [
      "[ 1.        +0.j          0.04375658+0.41636321j  0.04375658-0.41636321j\n",
      " -0.26498642+0.j         -0.16641571+0.19627497j -0.16641571-0.19627497j\n",
      "  0.18278929+0.j          0.14418946+0.08057296j  0.14418946-0.08057296j\n",
      "  0.0729122 +0.j        ]\n",
      "[0.061358   0.12973764 0.12527139 0.14823597 0.09849189 0.04864512\n",
      " 0.14811634 0.07481129 0.11326694 0.05206541]\n",
      "1.0\n"
     ]
    }
   ],
   "source": [
    "#note that in my notations they are usual (right) eigenvalues\n",
    "eigvals, eigfuncs = np.linalg.eig(S_trans)\n",
    "print(eigvals)\n",
    "pi_states = -np.real(eigfuncs[:,0])\n",
    "pi_states = pi_states/np.sum(pi_states)\n",
    "#pi_states - statinary distribution over states\n",
    "print(pi_states)\n",
    "print(np.sum(pi_states))"
   ]
  },
  {
   "cell_type": "code",
   "execution_count": 38,
   "metadata": {},
   "outputs": [
    {
     "name": "stdout",
     "output_type": "stream",
     "text": [
      "[[0.00161236 0.         0.         0.         0.         0.\n",
      "  0.         0.         0.         0.        ]\n",
      " [0.         0.00371063 0.         0.         0.         0.\n",
      "  0.         0.         0.         0.        ]\n",
      " [0.         0.         0.02791094 0.         0.         0.\n",
      "  0.         0.         0.         0.        ]\n",
      " [0.         0.         0.         0.00269599 0.         0.\n",
      "  0.         0.         0.         0.        ]\n",
      " [0.         0.         0.         0.         0.00171354 0.\n",
      "  0.         0.         0.         0.        ]\n",
      " [0.         0.         0.         0.         0.         0.00254726\n",
      "  0.         0.         0.         0.        ]\n",
      " [0.         0.         0.         0.         0.         0.\n",
      "  0.00806724 0.         0.         0.        ]\n",
      " [0.         0.         0.         0.         0.         0.\n",
      "  0.         0.00331585 0.         0.        ]\n",
      " [0.         0.         0.         0.         0.         0.\n",
      "  0.         0.         0.00275466 0.        ]\n",
      " [0.         0.         0.         0.         0.         0.\n",
      "  0.         0.         0.         0.00047409]]\n"
     ]
    }
   ],
   "source": [
    "#calculate covariance matrix Sigma_epsilon\n",
    "Sigma_eps = np.zeros((N_s,N_s),dtype=float)\n",
    "for s0 in range(N_s):\n",
    "    for s in range(N_s):\n",
    "        for a in range(N_a):\n",
    "            eps = np.zeros(N_s,dtype=float)\n",
    "            eps[s0] = R[a,s0] + gamma*theta_star[s]-theta_star[s0]\n",
    "            eps_upd = eps.reshape((-1,1)) @ eps.reshape((1,-1))\n",
    "            #averaging\n",
    "            Sigma_eps += pi_states[s0]*Policy[a,s0]*P[s,s0,a]*eps_upd\n",
    "#print estimated covariance matrix\n",
    "print(Sigma_eps)"
   ]
  },
  {
   "cell_type": "markdown",
   "metadata": {},
   "source": [
    "### Find $\\theta^*$ by another approach"
   ]
  },
  {
   "cell_type": "code",
   "execution_count": 39,
   "metadata": {},
   "outputs": [
    {
     "name": "stdout",
     "output_type": "stream",
     "text": [
      "error between different ways of calculating thetas star 1.130466570252318e-14\n"
     ]
    }
   ],
   "source": [
    "A_star = np.zeros((N_s,N_s),dtype=float)\n",
    "for i in range(N_s):\n",
    "    for j in range(N_s):\n",
    "        A_star[i,j] = pi_states[i]*S_trans[j,i]\n",
    "A_star = np.diag(pi_states) - gamma*A_star\n",
    "b_star = b*pi_states\n",
    "theta_star_new = np.linalg.inv(A_star) @ b_star\n",
    "print(\"error between different ways of calculating thetas star\",np.linalg.norm(theta_star-theta_star_new))"
   ]
  },
  {
   "cell_type": "markdown",
   "metadata": {},
   "source": [
    "#### Check quality of normal approximation "
   ]
  },
  {
   "cell_type": "code",
   "execution_count": 40,
   "metadata": {},
   "outputs": [],
   "source": [
    "#Run TD(0) algorithm\n",
    "N_iters = 2*10**6\n",
    "v0 = 5*np.ones(N_s,dtype=float)\n",
    "s0 = np.random.choice(N_s)\n",
    "#step size\n",
    "c0 = 4.0\n",
    "alpha = np.zeros(N_iters,dtype=float)\n",
    "for i in range(N_iters):\n",
    "    alpha[i] = c0/np.sqrt(i+1)"
   ]
  },
  {
   "cell_type": "code",
   "execution_count": 41,
   "metadata": {},
   "outputs": [
    {
     "name": "stdout",
     "output_type": "stream",
     "text": [
      "[[0.66711619 0.3552804  0.26331904 0.6638734  0.37314812 0.42164785\n",
      "  0.34472678 0.55015609 0.61498269 0.52219635]\n",
      " [1.         1.         1.         1.         1.         1.\n",
      "  1.         1.         1.         1.        ]]\n"
     ]
    }
   ],
   "source": [
    "#compute cumulative sums\n",
    "Policy_cumulative = Policy.cumsum(axis=0)\n",
    "print(Policy_cumulative)"
   ]
  },
  {
   "cell_type": "code",
   "execution_count": 42,
   "metadata": {},
   "outputs": [
    {
     "name": "stdout",
     "output_type": "stream",
     "text": [
      "(3, 10, 2)\n"
     ]
    }
   ],
   "source": [
    "Cumulative_state = np.zeros((branch,N_s,N_a))\n",
    "for s in range(N_s):\n",
    "    for a in range(N_a):\n",
    "        cur_pol = P[Inds_nz[s,a],s,a]\n",
    "        Cumulative_state[:,s,a] = cur_pol.cumsum()\n",
    "print(Cumulative_state.shape)"
   ]
  },
  {
   "cell_type": "code",
   "execution_count": 15,
   "metadata": {},
   "outputs": [],
   "source": [
    "def check_independent_parallel(seed,alpha,s_0,N_traj,N_iters,n_b = N_iters // 2):\n",
    "    V_funcs = np.zeros((N_traj,N_iters,N_s))\n",
    "    np.random.seed(seed)\n",
    "    #burn-in \n",
    "    n0 = n_b\n",
    "    PR_V = np.zeros((N_traj,N_iters-n0,N_s))\n",
    "    ###Main loop\n",
    "    V = 5*np.ones((N_traj,N_s),dtype=float)\n",
    "    for N in range(N_iters):\n",
    "        #generate a set of indices\n",
    "        s0 = np.random.choice(N_s, N_traj, replace=True, p = pi_states)\n",
    "        #sample action\n",
    "        #compute policy vectors\n",
    "        Prob_vectors = Policy_cumulative[:,s0]\n",
    "        a = (Prob_vectors < np.random.rand(1, N_traj)).argmin(axis=0)\n",
    "        #sample next state\n",
    "        #join state and actio pair \n",
    "        Pr_v = Cumulative_state[:,s0,a]\n",
    "        s_inds = (Pr_v < np.random.rand(1, N_traj)).argmin(axis=0)\n",
    "        s = Inds_nz[s0,a,s_inds]\n",
    "        #calculate J0\n",
    "        eps = np.zeros((N_traj,N_s),dtype=float)\n",
    "        eps[np.arange(N_traj),s0] = R[a,s0] + gamma*V[np.arange(N_traj),s]-V[np.arange(N_traj),s0]\n",
    "        #TD update\n",
    "        V += alpha[N]*eps\n",
    "        #save value function\n",
    "        V_funcs[:,N,:] = V\n",
    "        #update PR\n",
    "        if N == n0:\n",
    "            PR_V[:,0,:] = V\n",
    "        elif N > n0:\n",
    "            PR_V[:,N-n0,:] = (PR_V[:,N-n0-1,:]*(N-n0) + V) / (N-n0+1)\n",
    "    return V_funcs,PR_V"
   ]
  },
  {
   "cell_type": "code",
   "execution_count": 16,
   "metadata": {},
   "outputs": [],
   "source": [
    "def check_independent_last(seed,alpha,s_0,N_traj,n_iters):\n",
    "    N_max = 12800\n",
    "    V_funcs = np.zeros((N_max,N_s),dtype=float)\n",
    "    np.random.seed(seed)\n",
    "    #burn-in \n",
    "    n0 = n_iters // 2\n",
    "    PR_V = np.zeros((N_traj,N_s),dtype=float)\n",
    "    ###Main loop\n",
    "    n_loops = N_traj // N_max\n",
    "    for i in range(n_loops):\n",
    "        V = 5*np.ones((N_max,N_s),dtype=float)\n",
    "        for N in range(n_iters):\n",
    "            #generate a set of indices\n",
    "            s0 = np.random.choice(N_s,  N_max, replace=True, p = pi_states)\n",
    "            #sample action\n",
    "            #compute policy vectors\n",
    "            Prob_vectors = Policy_cumulative[:,s0]\n",
    "            a = (Prob_vectors < np.random.rand(1,  N_max)).argmin(axis=0)\n",
    "            #sample next state\n",
    "            #join state and actio pair \n",
    "            Pr_v = Cumulative_state[:,s0,a]\n",
    "            s_inds = (Pr_v < np.random.rand(1,  N_max)).argmin(axis=0)\n",
    "            s = Inds_nz[s0,a,s_inds]\n",
    "            #calculate J0\n",
    "            eps = np.zeros(( N_max,N_s),dtype=float)\n",
    "            eps[np.arange( N_max),s0] = R[a,s0] + gamma*V[np.arange(N_max),s]-V[np.arange(N_max),s0]\n",
    "            #TD update\n",
    "            V += alpha[N]*eps\n",
    "            #update PR\n",
    "            if N == n0:\n",
    "                PR_V[i*N_max:(i+1)*N_max,:] = V\n",
    "            elif N > n0:\n",
    "                PR_V[i*N_max:(i+1)*N_max,:] = (PR_V[i*N_max:(i+1)*N_max,:]*(N-n0) + V) / (N-n0+1)\n",
    "    return PR_V"
   ]
  },
  {
   "cell_type": "code",
   "execution_count": 17,
   "metadata": {},
   "outputs": [],
   "source": [
    "seed = 2024\n",
    "N_traj = 409600\n",
    "res_last = []\n",
    "res_pr = []\n",
    "#number of iterations\n",
    "N_iters = [200,400,800,1600,3200,6400,12800,25600,51200,102400,204800,409600,819200]\n",
    "N_iters = np.asarray(N_iters)\n",
    "for i in range(len(N_iters)):\n",
    "    pr_iter = check_independent_last(seed + i,alpha,s0,N_traj,N_iters[i])\n",
    "    #append strange arrays here\n",
    "    #res_last.append(last_iter)\n",
    "    res_pr.append(pr_iter)"
   ]
  },
  {
   "cell_type": "code",
   "execution_count": 18,
   "metadata": {},
   "outputs": [
    {
     "name": "stdout",
     "output_type": "stream",
     "text": [
      "[[5.35095684 5.31098001 5.26963476 ... 5.29238304 5.17402496 5.27997056]\n",
      " [5.19737096 5.13893591 5.24939986 ... 5.32924575 4.9986507  4.94016748]\n",
      " [4.96069191 5.06388254 5.26927188 ... 4.95329    4.9784447  4.9336733 ]\n",
      " ...\n",
      " [4.94146418 4.89930733 4.88941784 ... 4.90143624 4.68555625 4.84933984]\n",
      " [5.67830664 5.4329267  5.4987585  ... 5.48866855 5.57195701 5.47574379]\n",
      " [5.35626076 5.36010826 5.42765784 ... 5.39374792 5.31485062 5.33995325]]\n"
     ]
    }
   ],
   "source": [
    "print(res_pr[0])"
   ]
  },
  {
   "cell_type": "code",
   "execution_count": 19,
   "metadata": {},
   "outputs": [],
   "source": [
    "#Compute error norms\n",
    "#error_norm = np.linalg.norm(res_last[0] - theta_star.reshape((1,1,-1)),axis=2)\n",
    "#same for PR\n",
    "#error_norm_PR = np.linalg.norm(res_pr[0] - theta_star.reshape((1,1,-1)),axis=2)"
   ]
  },
  {
   "cell_type": "markdown",
   "metadata": {},
   "source": [
    "### Plot error norm"
   ]
  },
  {
   "cell_type": "code",
   "execution_count": 20,
   "metadata": {},
   "outputs": [
    {
     "ename": "NameError",
     "evalue": "name 'N_0' is not defined",
     "output_type": "error",
     "traceback": [
      "\u001b[0;31m---------------------------------------------------------------------------\u001b[0m",
      "\u001b[0;31mNameError\u001b[0m                                 Traceback (most recent call last)",
      "Cell \u001b[0;32mIn [20], line 3\u001b[0m\n\u001b[1;32m      1\u001b[0m \u001b[38;5;66;03m#plot last iterate\u001b[39;00m\n\u001b[1;32m      2\u001b[0m plt\u001b[38;5;241m.\u001b[39mfigure(figsize\u001b[38;5;241m=\u001b[39m(\u001b[38;5;241m12\u001b[39m,\u001b[38;5;241m8\u001b[39m)) \n\u001b[0;32m----> 3\u001b[0m plt\u001b[38;5;241m.\u001b[39mplot(np\u001b[38;5;241m.\u001b[39marange(\u001b[43mN_0\u001b[49m,N_iters), error_norm\u001b[38;5;241m.\u001b[39mmean(axis\u001b[38;5;241m=\u001b[39m\u001b[38;5;241m0\u001b[39m)[N_0:], linestyle\u001b[38;5;241m=\u001b[39m\u001b[38;5;124m'\u001b[39m\u001b[38;5;124m--\u001b[39m\u001b[38;5;124m'\u001b[39m, marker\u001b[38;5;241m=\u001b[39m\u001b[38;5;124m'\u001b[39m\u001b[38;5;124mo\u001b[39m\u001b[38;5;124m'\u001b[39m, color\u001b[38;5;241m=\u001b[39m\u001b[38;5;124m'\u001b[39m\u001b[38;5;124mr\u001b[39m\u001b[38;5;124m'\u001b[39m, label\u001b[38;5;241m=\u001b[39m\u001b[38;5;124m'\u001b[39m\u001b[38;5;124mLast iterate error\u001b[39m\u001b[38;5;124m'\u001b[39m) \n\u001b[1;32m      4\u001b[0m plt\u001b[38;5;241m.\u001b[39mplot(np\u001b[38;5;241m.\u001b[39marange(N_0,N_iters), error_norm_PR\u001b[38;5;241m.\u001b[39mmean(axis\u001b[38;5;241m=\u001b[39m\u001b[38;5;241m0\u001b[39m), linestyle\u001b[38;5;241m=\u001b[39m\u001b[38;5;124m'\u001b[39m\u001b[38;5;124m--\u001b[39m\u001b[38;5;124m'\u001b[39m, marker\u001b[38;5;241m=\u001b[39m\u001b[38;5;124m'\u001b[39m\u001b[38;5;124mo\u001b[39m\u001b[38;5;124m'\u001b[39m, color\u001b[38;5;241m=\u001b[39m\u001b[38;5;124m'\u001b[39m\u001b[38;5;124mb\u001b[39m\u001b[38;5;124m'\u001b[39m, label\u001b[38;5;241m=\u001b[39m\u001b[38;5;124m'\u001b[39m\u001b[38;5;124mPR error\u001b[39m\u001b[38;5;124m'\u001b[39m)\n\u001b[1;32m      5\u001b[0m plt\u001b[38;5;241m.\u001b[39mxlabel(\u001b[38;5;124m'\u001b[39m\u001b[38;5;124miteration number\u001b[39m\u001b[38;5;124m'\u001b[39m,fontsize \u001b[38;5;241m=\u001b[39m \u001b[38;5;241m18\u001b[39m)\n",
      "\u001b[0;31mNameError\u001b[0m: name 'N_0' is not defined"
     ]
    },
    {
     "data": {
      "text/plain": [
       "<Figure size 1200x800 with 0 Axes>"
      ]
     },
     "metadata": {},
     "output_type": "display_data"
    }
   ],
   "source": [
    "#plot last iterate\n",
    "plt.figure(figsize=(12,8)) \n",
    "plt.plot(np.arange(N_0,N_iters), error_norm.mean(axis=0)[N_0:], linestyle='--', marker='o', color='r', label='Last iterate error') \n",
    "plt.plot(np.arange(N_0,N_iters), error_norm_PR.mean(axis=0), linestyle='--', marker='o', color='b', label='PR error')\n",
    "plt.xlabel('iteration number',fontsize = 18)\n",
    "#plt.yscale('log')\n",
    "plt.legend() \n",
    "plt.show()"
   ]
  },
  {
   "cell_type": "code",
   "execution_count": null,
   "metadata": {},
   "outputs": [],
   "source": [
    "#plot last iterate\n",
    "plt.figure(figsize=(12,8)) \n",
    "plt.plot(np.arange(N_0,N_iters), error_norm.mean(axis=0)[N_0:]/np.sqrt(alpha[N_0:]), linestyle='--', marker='o', color='r', label='Last iterate error') \n",
    "plt.plot(np.arange(N_0,N_iters), error_norm_PR.mean(axis=0)*np.sqrt(1+np.arange(N_iters-N_0)), linestyle='--', marker='o', color='b', label='PR error')\n",
    "plt.xlabel('iteration number',fontsize = 18)\n",
    "plt.yscale('log')\n",
    "plt.legend() \n",
    "plt.show()"
   ]
  },
  {
   "cell_type": "markdown",
   "metadata": {},
   "source": [
    "### Compute PR statistics, check quality of normal approximation"
   ]
  },
  {
   "cell_type": "code",
   "execution_count": 21,
   "metadata": {},
   "outputs": [
    {
     "name": "stdout",
     "output_type": "stream",
     "text": [
      "(409600, 10)\n",
      "(409600, 10)\n",
      "(409600, 10)\n",
      "(409600, 10)\n",
      "(409600, 10)\n",
      "(409600, 10)\n",
      "(409600, 10)\n",
      "(409600, 10)\n",
      "(409600, 10)\n",
      "(409600, 10)\n",
      "(409600, 10)\n",
      "(409600, 10)\n",
      "(409600, 10)\n"
     ]
    }
   ],
   "source": [
    "np.random.seed(2024)\n",
    "#generate random direction\n",
    "U = np.random.randn(N_s)\n",
    "u = U/np.linalg.norm(U)\n",
    "#compute the emirical CDF \n",
    "pr_samples = []\n",
    "\n",
    "for i in range(len(N_iters)):\n",
    "    print(res_pr[i].shape)\n",
    "    norm_samples = np.sqrt(N_iters[i]//2)*A_star @ (res_pr[i] - theta_star.reshape((1,-1))).transpose()\n",
    "    pr_samples.append(norm_samples)"
   ]
  },
  {
   "cell_type": "code",
   "execution_count": 22,
   "metadata": {},
   "outputs": [
    {
     "name": "stdout",
     "output_type": "stream",
     "text": [
      "(13, 409600)\n"
     ]
    }
   ],
   "source": [
    "sample = []\n",
    "for i in range(len(N_iters)):\n",
    "    err_proj = pr_samples[i].transpose() @ u\n",
    "    sample.append(err_proj)\n",
    "sample = np.asarray(sample)\n",
    "print(sample.shape)"
   ]
  },
  {
   "cell_type": "code",
   "execution_count": 23,
   "metadata": {},
   "outputs": [],
   "source": [
    "sample_pickl = {'description':\"Experiments 05.04.2024, step size k^{-1/2}, 409600 trajectories\",'samle size':N_iters,'sample':sample}\n",
    "with open('res_04_04.pickle', 'wb') as handle:\n",
    "    pickle.dump(sample_pickl, handle)"
   ]
  },
  {
   "cell_type": "code",
   "execution_count": 44,
   "metadata": {},
   "outputs": [],
   "source": [
    "with open('res_07_04.pickle', 'rb') as handle:\n",
    "    sample_pickl = pickle.load(handle)"
   ]
  },
  {
   "cell_type": "code",
   "execution_count": 45,
   "metadata": {},
   "outputs": [],
   "source": [
    "sample = sample_pickl['sample']"
   ]
  },
  {
   "cell_type": "code",
   "execution_count": 60,
   "metadata": {},
   "outputs": [],
   "source": [
    "N_iters = np.asarray([200,400,800,1600,3200,6400,12800,25600,51200,102400,204800,409600,819200],dtype=float)\n",
    "N_traj = 819200\n",
    "\n",
    "all_ks = []\n",
    "loc = 0.0\n",
    "scale = (Sigma_eps @ u).dot(u)\n",
    "for i in range(len(N_iters)):\n",
    "    sample_sort = np.sort(sample[i])\n",
    "    ecdf = np.linspace(0,1,N_traj+1)\n",
    "    cdfs = norm.cdf(sample_sort, loc = 0, scale = np.sqrt(scale))\n",
    "    ks_dist = max([(ecdf[1:] - cdfs).max(), (cdfs - ecdf[:-1]).max()])\n",
    "    all_ks.append(ks_dist)"
   ]
  },
  {
   "cell_type": "code",
   "execution_count": 61,
   "metadata": {},
   "outputs": [
    {
     "name": "stdout",
     "output_type": "stream",
     "text": [
      "[0.0456739745438737, 0.026094991739075868, 0.0191850703640975, 0.013723261016368976, 0.009140662356740104, 0.006963304047993252, 0.004288317105556438, 0.003524214011990656, 0.002370933801688374, 0.0018991756853847797, 0.0020394972762264874, 0.0010935965404907932, 0.0012482989419618506]\n"
     ]
    }
   ],
   "source": [
    "print(all_ks)"
   ]
  },
  {
   "cell_type": "code",
   "execution_count": 62,
   "metadata": {},
   "outputs": [
    {
     "name": "stdout",
     "output_type": "stream",
     "text": [
      "[2.000e+02 4.000e+02 8.000e+02 1.600e+03 3.200e+03 6.400e+03 1.280e+04\n",
      " 2.560e+04 5.120e+04 1.024e+05 2.048e+05 4.096e+05 8.192e+05]\n"
     ]
    }
   ],
   "source": [
    "print(N_iters)"
   ]
  },
  {
   "cell_type": "code",
   "execution_count": 63,
   "metadata": {},
   "outputs": [
    {
     "data": {
      "image/png": "[encoded data removed]",
      "text/plain": [
       "<Figure size 1200x800 with 1 Axes>"
      ]
     },
     "metadata": {},
     "output_type": "display_data"
    }
   ],
   "source": [
    "#plot last iterate\n",
    "plt.figure(figsize=(12,8)) \n",
    "plt.plot(N_iters, (N_iters**0.25)*all_ks, linestyle='--', marker='o', color='r', label='Kolmogorov distance, rescaled by $n^{1/4}$') \n",
    "plt.plot(N_iters, (N_iters**0.5)*all_ks, linestyle='--', marker='o', color='b', label='Kolmogorov distance, rescaled by $\\sqrt{n}$') \n",
    "plt.xlabel('number of trajectories',fontsize = 18)\n",
    "plt.xscale('log')\n",
    "#plt.yscale('log')\n",
    "plt.legend(fontsize=18)\n",
    "plt.savefig(\"test_kolmogorov_dist_07_04.pdf\")\n",
    "plt.show()"
   ]
  },
  {
   "cell_type": "code",
   "execution_count": null,
   "metadata": {},
   "outputs": [],
   "source": []
  }
 ],
 "metadata": {
  "kernelspec": {
   "display_name": "Python 3 (ipykernel)",
   "language": "python",
   "name": "python3"
  },
  "language_info": {
   "codemirror_mode": {
    "name": "ipython",
    "version": 3
   },
   "file_extension": ".py",
   "mimetype": "text/x-python",
   "name": "python",
   "nbconvert_exporter": "python",
   "pygments_lexer": "ipython3",
   "version": "3.9.15"
  }
 },
 "nbformat": 4,
 "nbformat_minor": 4
}
