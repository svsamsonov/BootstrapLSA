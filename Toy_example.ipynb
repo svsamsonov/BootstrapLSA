{
 "cells": [
  {
   "cell_type": "code",
   "execution_count": 14,
   "metadata": {},
   "outputs": [],
   "source": [
    "import numpy as np\n",
    "import copy\n",
    "from multiprocessing import Pool\n",
    "import multiprocessing"
   ]
  },
  {
   "cell_type": "markdown",
   "metadata": {},
   "source": [
    "### Generate matrices"
   ]
  },
  {
   "cell_type": "code",
   "execution_count": 15,
   "metadata": {},
   "outputs": [],
   "source": [
    "d = 10\n",
    "np.random.seed(1812)\n",
    "#generate random T\n",
    "T = np.random.uniform(low = -1.0,high = 1.0, size = (d,d))\n",
    "#compute QR factorisation\n",
    "Q, R_1 = np.linalg.qr(T,mode='complete')\n",
    "A_12 = Q\n",
    "#compute Lambda_0\n",
    "Lambda_0 = np.diag(np.random.uniform(low = 1.0,high = 2.0, size = (d,)))\n",
    "A_22 = (Q.T).dot(Lambda_0.dot(Q))\n",
    "#generate R\n",
    "R = np.random.uniform(low = -1.0,high = 1.0, size = (d,d))\n",
    "A_11 = R.dot(R.T) + 5*np.eye(d)\n",
    "#compute Lambda_1\n",
    "Lambda_1 = np.diag(np.random.uniform(low = -1.0,high = 1.0, size = (d,)))\n",
    "A_21 = (Q.T).dot(Lambda_1)\n",
    "#sample true parameters\n",
    "theta_star = np.random.uniform(low = -1.0,high = 1.0, size = (d,))\n",
    "w_star = np.random.uniform(low = -1.0,high = 1.0, size = (d,))\n",
    "#compute b_1,b_2\n",
    "b_1 = A_11 @ theta_star + A_12 @ w_star\n",
    "b_2 = A_21 @ theta_star + A_22 @ w_star"
   ]
  },
  {
   "cell_type": "markdown",
   "metadata": {},
   "source": [
    "### Check assumptions"
   ]
  },
  {
   "cell_type": "code",
   "execution_count": 16,
   "metadata": {},
   "outputs": [
    {
     "name": "stdout",
     "output_type": "stream",
     "text": [
      "[14.57061784 11.40444971 10.58819872  9.78375006  7.30257669  6.81006409\n",
      "  4.86218813  5.02569884  5.25124318  5.46024408]\n"
     ]
    }
   ],
   "source": [
    "#compute Delta\n",
    "Delta = A_11 - A_12.dot(np.linalg.inv(A_22).dot(A_21))\n",
    "eigvals, eigfuncs = np.linalg.eig(Delta)\n",
    "print(eigvals)"
   ]
  },
  {
   "cell_type": "markdown",
   "metadata": {},
   "source": [
    "### Run GTD"
   ]
  },
  {
   "cell_type": "code",
   "execution_count": 20,
   "metadata": {},
   "outputs": [],
   "source": [
    "N_iters = 1*10**4\n",
    "#step size\n",
    "beta = np.zeros(N_iters,dtype = float)\n",
    "gamma = np.zeros(N_iters,dtype = float)\n",
    "#N_0_beta = 10**4\n",
    "N_0_beta = 1*10**4\n",
    "N_0_gamma = 1*10**4\n",
    "deg_beta = 1.0\n",
    "deg_gamma = 0.7\n",
    "#deg_gamma = 0.5\n",
    "C_0_beta = 2*10**2\n",
    "#C_0_beta = 12*10**4\n",
    "C_0_gamma = 10.0\n",
    "#C_0_gamma = 10.0\n",
    "for i in range(N_iters):\n",
    "    beta[i] = C_0_beta/(N_0_beta+i)\n",
    "    gamma[i] = C_0_gamma/(N_0_gamma+i)**(deg_gamma)"
   ]
  },
  {
   "cell_type": "code",
   "execution_count": 21,
   "metadata": {},
   "outputs": [],
   "source": [
    "def main_loop(j,beta,gamma):\n",
    "    np.random.seed(2020+j)\n",
    "    w_cur = np.random.randn(d)\n",
    "    theta_cur = np.random.randn(d)\n",
    "    V_funcs = np.zeros((N_iters,d))\n",
    "    W_params = np.zeros((N_iters,d))\n",
    "    sigma_V = 0.1\n",
    "    sigma_W = 0.5\n",
    "    Prod_all = np.eye(d)\n",
    "    Sigma_11 = sigma_V**2*(np.eye(d)*(1+np.linalg.norm(theta_star)**2 + np.linalg.norm(w_star)**2))\n",
    "    Sigma_22 = sigma_W**2*(np.eye(d)*(1+np.linalg.norm(theta_star)**2 + np.linalg.norm(w_star)**2))\n",
    "    A_22_inv = np.linalg.inv(A_22)\n",
    "    Sigma = Sigma_11 + A_12.dot(A_22_inv.dot(Sigma_22.dot(A_22_inv.T.dot(A_12.T))))\n",
    "    I_all = np.zeros(N_iters)\n",
    "    ###Main loop\n",
    "    for N in range(N_iters):\n",
    "        #generate noisy V\n",
    "        F_V = sigma_V*np.random.randn(d)\n",
    "        A_V_theta = sigma_V*np.random.randn(d,d)\n",
    "        A_V_w = sigma_V*np.random.randn(d,d)\n",
    "        V = F_V - A_V_theta@theta_cur - A_V_w@w_cur\n",
    "        #generate noisy W\n",
    "        F_W = sigma_W*np.random.randn(d)\n",
    "        A_W_theta = sigma_W*np.random.randn(d,d)\n",
    "        A_W_w = sigma_W*np.random.randn(d,d)\n",
    "        W = F_W - A_W_theta@theta_cur - A_W_w@w_cur\n",
    "        #update\n",
    "        theta_cur = theta_cur + beta[N]*(b_1 - A_11@theta_cur - A_12@w_cur + V)\n",
    "        w_cur = w_cur + gamma[N]*(b_2 - A_21@theta_cur - A_22@w_cur + W)\n",
    "        #compute I_k\n",
    "        Prod_all = Prod_all.dot(np.eye(d) - beta[N]*Delta)\n",
    "        Prod_cur = copy.copy(Prod_all)\n",
    "        I_k = 0.0\n",
    "        for i in range(N+1):\n",
    "            I_k += (beta[i]**2)*np.trace(Prod_cur.dot(Sigma.dot(Prod_cur.T)))\n",
    "            Prod_cur = (np.linalg.inv(np.eye(d)-beta[i]*Delta)).dot(Prod_cur)\n",
    "        #save value function\n",
    "        V_funcs[N] = theta_cur\n",
    "        W_params[N] = w_cur\n",
    "        I_all[N] = I_k\n",
    "    return np.asarray([V_funcs,W_params]),I_all"
   ]
  },
  {
   "cell_type": "code",
   "execution_count": 22,
   "metadata": {},
   "outputs": [
    {
     "ename": "KeyboardInterrupt",
     "evalue": "",
     "output_type": "error",
     "traceback": [
      "\u001b[0;31m---------------------------------------------------------------------------\u001b[0m",
      "\u001b[0;31mKeyboardInterrupt\u001b[0m                         Traceback (most recent call last)",
      "\u001b[0;32m<ipython-input-22-bacc17710795>\u001b[0m in \u001b[0;36m<module>\u001b[0;34m\u001b[0m\n\u001b[0;32m----> 1\u001b[0;31m \u001b[0mres_indep\u001b[0m\u001b[0;34m,\u001b[0m\u001b[0mI\u001b[0m \u001b[0;34m=\u001b[0m \u001b[0mmain_loop\u001b[0m\u001b[0;34m(\u001b[0m\u001b[0;36m0\u001b[0m\u001b[0;34m,\u001b[0m\u001b[0mbeta\u001b[0m\u001b[0;34m,\u001b[0m\u001b[0mgamma\u001b[0m\u001b[0;34m)\u001b[0m\u001b[0;34m\u001b[0m\u001b[0;34m\u001b[0m\u001b[0m\n\u001b[0m\u001b[1;32m      2\u001b[0m \u001b[0mprint\u001b[0m\u001b[0;34m(\u001b[0m\u001b[0mres_indep\u001b[0m\u001b[0;34m.\u001b[0m\u001b[0mshape\u001b[0m\u001b[0;34m)\u001b[0m\u001b[0;34m\u001b[0m\u001b[0;34m\u001b[0m\u001b[0m\n",
      "\u001b[0;32m<ipython-input-21-13c4a086c23a>\u001b[0m in \u001b[0;36mmain_loop\u001b[0;34m(j, beta, gamma)\u001b[0m\n\u001b[1;32m     34\u001b[0m         \u001b[0;32mfor\u001b[0m \u001b[0mi\u001b[0m \u001b[0;32min\u001b[0m \u001b[0mrange\u001b[0m\u001b[0;34m(\u001b[0m\u001b[0mN\u001b[0m\u001b[0;34m+\u001b[0m\u001b[0;36m1\u001b[0m\u001b[0;34m)\u001b[0m\u001b[0;34m:\u001b[0m\u001b[0;34m\u001b[0m\u001b[0;34m\u001b[0m\u001b[0m\n\u001b[1;32m     35\u001b[0m             \u001b[0mI_k\u001b[0m \u001b[0;34m+=\u001b[0m \u001b[0;34m(\u001b[0m\u001b[0mbeta\u001b[0m\u001b[0;34m[\u001b[0m\u001b[0mi\u001b[0m\u001b[0;34m]\u001b[0m\u001b[0;34m**\u001b[0m\u001b[0;36m2\u001b[0m\u001b[0;34m)\u001b[0m\u001b[0;34m*\u001b[0m\u001b[0mnp\u001b[0m\u001b[0;34m.\u001b[0m\u001b[0mtrace\u001b[0m\u001b[0;34m(\u001b[0m\u001b[0mProd_cur\u001b[0m\u001b[0;34m.\u001b[0m\u001b[0mdot\u001b[0m\u001b[0;34m(\u001b[0m\u001b[0mSigma\u001b[0m\u001b[0;34m.\u001b[0m\u001b[0mdot\u001b[0m\u001b[0;34m(\u001b[0m\u001b[0mProd_cur\u001b[0m\u001b[0;34m.\u001b[0m\u001b[0mT\u001b[0m\u001b[0;34m)\u001b[0m\u001b[0;34m)\u001b[0m\u001b[0;34m)\u001b[0m\u001b[0;34m\u001b[0m\u001b[0;34m\u001b[0m\u001b[0m\n\u001b[0;32m---> 36\u001b[0;31m             \u001b[0mProd_cur\u001b[0m \u001b[0;34m=\u001b[0m \u001b[0;34m(\u001b[0m\u001b[0mnp\u001b[0m\u001b[0;34m.\u001b[0m\u001b[0mlinalg\u001b[0m\u001b[0;34m.\u001b[0m\u001b[0minv\u001b[0m\u001b[0;34m(\u001b[0m\u001b[0mnp\u001b[0m\u001b[0;34m.\u001b[0m\u001b[0meye\u001b[0m\u001b[0;34m(\u001b[0m\u001b[0md\u001b[0m\u001b[0;34m)\u001b[0m\u001b[0;34m-\u001b[0m\u001b[0mbeta\u001b[0m\u001b[0;34m[\u001b[0m\u001b[0mi\u001b[0m\u001b[0;34m]\u001b[0m\u001b[0;34m*\u001b[0m\u001b[0mDelta\u001b[0m\u001b[0;34m)\u001b[0m\u001b[0;34m)\u001b[0m\u001b[0;34m.\u001b[0m\u001b[0mdot\u001b[0m\u001b[0;34m(\u001b[0m\u001b[0mProd_cur\u001b[0m\u001b[0;34m)\u001b[0m\u001b[0;34m\u001b[0m\u001b[0;34m\u001b[0m\u001b[0m\n\u001b[0m\u001b[1;32m     37\u001b[0m         \u001b[0;31m#save value function\u001b[0m\u001b[0;34m\u001b[0m\u001b[0;34m\u001b[0m\u001b[0;34m\u001b[0m\u001b[0m\n\u001b[1;32m     38\u001b[0m         \u001b[0mV_funcs\u001b[0m\u001b[0;34m[\u001b[0m\u001b[0mN\u001b[0m\u001b[0;34m]\u001b[0m \u001b[0;34m=\u001b[0m \u001b[0mtheta_cur\u001b[0m\u001b[0;34m\u001b[0m\u001b[0;34m\u001b[0m\u001b[0m\n",
      "\u001b[0;32m~/miniconda3/lib/python3.6/site-packages/numpy/lib/twodim_base.py\u001b[0m in \u001b[0;36meye\u001b[0;34m(N, M, k, dtype, order)\u001b[0m\n\u001b[1;32m    206\u001b[0m     \u001b[0;32melse\u001b[0m\u001b[0;34m:\u001b[0m\u001b[0;34m\u001b[0m\u001b[0;34m\u001b[0m\u001b[0m\n\u001b[1;32m    207\u001b[0m         \u001b[0mi\u001b[0m \u001b[0;34m=\u001b[0m \u001b[0;34m(\u001b[0m\u001b[0;34m-\u001b[0m\u001b[0mk\u001b[0m\u001b[0;34m)\u001b[0m \u001b[0;34m*\u001b[0m \u001b[0mM\u001b[0m\u001b[0;34m\u001b[0m\u001b[0;34m\u001b[0m\u001b[0m\n\u001b[0;32m--> 208\u001b[0;31m     \u001b[0mm\u001b[0m\u001b[0;34m[\u001b[0m\u001b[0;34m:\u001b[0m\u001b[0mM\u001b[0m\u001b[0;34m-\u001b[0m\u001b[0mk\u001b[0m\u001b[0;34m]\u001b[0m\u001b[0;34m.\u001b[0m\u001b[0mflat\u001b[0m\u001b[0;34m[\u001b[0m\u001b[0mi\u001b[0m\u001b[0;34m:\u001b[0m\u001b[0;34m:\u001b[0m\u001b[0mM\u001b[0m\u001b[0;34m+\u001b[0m\u001b[0;36m1\u001b[0m\u001b[0;34m]\u001b[0m \u001b[0;34m=\u001b[0m \u001b[0;36m1\u001b[0m\u001b[0;34m\u001b[0m\u001b[0;34m\u001b[0m\u001b[0m\n\u001b[0m\u001b[1;32m    209\u001b[0m     \u001b[0;32mreturn\u001b[0m \u001b[0mm\u001b[0m\u001b[0;34m\u001b[0m\u001b[0;34m\u001b[0m\u001b[0m\n\u001b[1;32m    210\u001b[0m \u001b[0;34m\u001b[0m\u001b[0m\n",
      "\u001b[0;31mKeyboardInterrupt\u001b[0m: "
     ]
    }
   ],
   "source": [
    "res_indep,I = main_loop(0,beta,gamma)\n",
    "print(res_indep.shape)"
   ]
  },
  {
   "cell_type": "code",
   "execution_count": null,
   "metadata": {},
   "outputs": [],
   "source": [
    "norms_theta = np.zeros(N_iters,dtype=float)\n",
    "norms_w = np.zeros(N_iters,dtype=float)\n",
    "\n",
    "for i in range(N_iters):\n",
    "    norms_theta[i] = np.linalg.norm(res_indep[0,i,:]-theta_star)\n",
    "    norms_w[i] = np.linalg.norm(res_indep[1,i,:] - w_star)"
   ]
  },
  {
   "cell_type": "code",
   "execution_count": null,
   "metadata": {},
   "outputs": [],
   "source": [
    "import matplotlib.pyplot as plt\n",
    "N_start = 0\n",
    "N_last = N_iters\n",
    "plt.figure(figsize=(12,8)) \n",
    "plt.plot(np.arange(N_start,N_last), norms_theta[N_start:N_last]**2, color='r' ,label='Squared error on $\\\\theta$,  $\\\\|\\\\theta_k-\\\\theta^*\\\\|^2$')\n",
    "plt.plot(np.arange(N_start,N_last), norms_w[N_start:N_last]**2, color='g' ,label='Squared error on $w$,  $\\\\|w_k-w^*\\\\|^2$') \n",
    "plt.plot(np.arange(N_start,N_last), I[N_start:N_last]**2, color='b' ,label='Leading term  $I_k$') \n",
    "plt.xlabel('iteration number',fontsize = 18)\n",
    "#plt.ylabel('cost',fontsize = 18) \n",
    "#plt.title('VR cost for MDCV, Gaussian distribution, quadratic target',fontsize = 20)\n",
    "plt.yscale('log')\n",
    "#plt.xscale('log')\n",
    "plt.legend() \n",
    "plt.show()"
   ]
  },
  {
   "cell_type": "code",
   "execution_count": null,
   "metadata": {},
   "outputs": [],
   "source": [
    "import matplotlib\n",
    "matplotlib.rc('xtick', labelsize=20) \n",
    "matplotlib.rc('ytick', labelsize=20) "
   ]
  },
  {
   "cell_type": "code",
   "execution_count": null,
   "metadata": {},
   "outputs": [],
   "source": [
    "import matplotlib.pyplot as plt\n",
    "N_start = 0\n",
    "N_last = N_iters\n",
    "plt.figure(figsize=(10,10)) \n",
    "plt.plot(np.arange(N_start,N_last), (norms_theta[N_start:N_last]**2), color='r' ,label='Squared error on $\\\\theta$,  $\\\\|\\\\theta_k-\\\\theta^*\\\\|^2$')\n",
    "plt.plot(np.arange(N_start,N_last), beta[N_start:N_last], color = 'b', label = '$\\\\beta_k$')\n",
    "#plt.plot(np.arange(N_start,N_last), (norms_w[N_start:N_last]**2)/gammas[N_start:N_last], color='g' ,label='Squared error on $w$,  $\\\\|w_k-w^*\\\\|^2/\\\\gamma_k$') \n",
    "plt.xlabel('iteration number',fontsize = 18)\n",
    "#plt.ylabel('cost',fontsize = 18) \n",
    "plt.title('GTD($0$)',fontsize = 20)\n",
    "plt.yscale('log')\n",
    "plt.xscale('log')\n",
    "plt.legend(fontsize = 18,loc='lower left')\n",
    "plt.grid(linestyle='--', linewidth=1.0)\n",
    "#plt.savefig(\"GTD_theta_squared.pdf\")\n",
    "#plt.show()"
   ]
  },
  {
   "cell_type": "code",
   "execution_count": null,
   "metadata": {},
   "outputs": [],
   "source": [
    "import matplotlib.pyplot as plt\n",
    "N_start = 0\n",
    "N_last = N_iters\n",
    "plt.figure(figsize=(10,10)) \n",
    "plt.plot(np.arange(N_start,N_last), norms_w[N_start:N_last]**2, color='g' ,label='Squared error of $w$,  $\\\\|w_k-w^*\\\\|^2$') \n",
    "plt.plot(np.arange(N_start,N_last), gamma[N_start:N_last], color = 'b', label = '$\\\\gamma_k$')\n",
    "#plt.plot(np.arange(N_start,N_last), (norms_w[N_start:N_last]**2)/gammas[N_start:N_last], color='g' ,label='Squared error on $w$,  $\\\\|w_k-w^*\\\\|^2/\\\\gamma_k$') \n",
    "plt.xlabel('iteration number',fontsize = 18)\n",
    "#plt.ylabel('cost',fontsize = 18) \n",
    "plt.title('GTD($0$)',fontsize = 20)\n",
    "plt.yscale('log')\n",
    "plt.xscale('log')\n",
    "plt.legend(fontsize = 18,loc='lower left') \n",
    "plt.grid(linestyle='--', linewidth=1.0)\n",
    "#plt.savefig(\"GTD_w_squared.pdf\")\n",
    "#plt.show()"
   ]
  },
  {
   "cell_type": "code",
   "execution_count": null,
   "metadata": {},
   "outputs": [],
   "source": [
    "####"
   ]
  },
  {
   "cell_type": "code",
   "execution_count": null,
   "metadata": {},
   "outputs": [],
   "source": [
    "nbcores = multiprocessing.cpu_count()\n",
    "trav = Pool(nbcores)\n",
    "res_indep = trav.starmap(main_loop, [(j,alpha,s0) for j in range (len(powers))])\n",
    "trav.close()"
   ]
  },
  {
   "cell_type": "code",
   "execution_count": null,
   "metadata": {},
   "outputs": [],
   "source": [
    "res_indep = np.asarray(res_indep)\n",
    "print(res_indep.shape)"
   ]
  },
  {
   "cell_type": "code",
   "execution_count": null,
   "metadata": {},
   "outputs": [],
   "source": [
    "norms = np.zeros((len(powers),N_iters),dtype=float)\n",
    "norms_J0_rem = np.zeros((len(powers),N_iters),dtype=float)\n",
    "norms_J1_rem = np.zeros((len(powers),N_iters),dtype=float)\n",
    "norms_transient = np.zeros((len(powers),N_iters),dtype=float)\n",
    "\n",
    "norms_J0 = np.zeros((len(powers),N_iters),dtype=float)\n",
    "norms_J1 = np.zeros((len(powers),N_iters),dtype=float)\n",
    "for j in range(len(powers)):\n",
    "    for i in range(N_iters):\n",
    "        norms[j][i] = np.linalg.norm(res_indep[j,0,i,:]-theta_star)\n",
    "        norms_J0_rem[j][i] = np.linalg.norm(res_indep[j,0,i,:] - res_indep[j,1,i,:]-theta_star)\n",
    "        norms_J1_rem[j][i] = np.linalg.norm(res_indep[j,0,i,:] - res_indep[j,1,i,:]-res_indep[j,2,i,:]-theta_star)\n",
    "        norms_transient[j][i] = np.linalg.norm(res_indep[j,3,i,:])\n",
    "        norms_J0[j][i] = np.linalg.norm(res_indep[j,1,i,:])\n",
    "        norms_J1[j][i] = np.linalg.norm(res_indep[j,2,i,:])"
   ]
  },
  {
   "cell_type": "markdown",
   "metadata": {},
   "source": [
    "### Save results"
   ]
  },
  {
   "cell_type": "code",
   "execution_count": null,
   "metadata": {},
   "outputs": [],
   "source": []
  },
  {
   "cell_type": "markdown",
   "metadata": {},
   "source": [
    "### Plot graphics"
   ]
  },
  {
   "cell_type": "code",
   "execution_count": null,
   "metadata": {},
   "outputs": [],
   "source": [
    "import matplotlib.pyplot as plt\n",
    "N_start = 0\n",
    "j=3\n",
    "plt.figure(figsize=(12,8)) \n",
    "plt.plot(np.arange(N_start,N_iters), norms[j][N_start:], color='r' ,label='MSE error') \n",
    "plt.plot(np.arange(N_start,N_iters), norms_J0_rem[j][N_start:], color='g' ,label='MSE error without J_0') \n",
    "plt.plot(np.arange(N_start,N_iters), norms_J1_rem[j][N_start:], color='b' ,label='MSE error without J_0, J_1')\n",
    "plt.xlabel('iteration number',fontsize = 18)\n",
    "#plt.ylabel('cost',fontsize = 18) \n",
    "#plt.title('VR cost for MDCV, Gaussian distribution, quadratic target',fontsize = 20)\n",
    "plt.yscale('log')\n",
    "plt.legend() \n",
    "plt.show()"
   ]
  },
  {
   "cell_type": "code",
   "execution_count": null,
   "metadata": {},
   "outputs": [],
   "source": [
    "#initialize policy\n",
    "V = copy.deepcopy(v0)\n",
    "J0_cur = np.zeros(N_s,dtype=float)\n",
    "J1_cur = np.zeros(N_s,dtype=float)\n",
    "Transient_cur = v0 - theta_star\n",
    "###Main loop\n",
    "for N in range(N_iters):\n",
    "    #sample action\n",
    "    a = np.random.choice(N_a, 1, replace=True, p=Policy[:,s0])\n",
    "    a=a[0]\n",
    "    #sample next state\n",
    "    s = np.random.choice(Inds_nz[s0,a], 1, replace=True, p=P[Inds_nz[s0,a],s0,a])\n",
    "    s=s[0]\n",
    "    #calculate J0\n",
    "    eps = np.zeros(N_s,dtype=float)\n",
    "    eps[s0] = R[a,s0] + gamma*theta_star[s]-theta_star[s0]\n",
    "    eps_TD = R[a,s0] + gamma*V[s]-V[s0]\n",
    "    #calculate J1\n",
    "    A_tilde = np.zeros((N_s,N_s),dtype=float)\n",
    "    A_tilde[s0,s0] = 1.0\n",
    "    A_tilde[s0,s] = -gamma\n",
    "    J1_cur = (np.eye(N_s) - alpha[N]*A_star)@J1_cur - alpha[N]*(A_tilde-A_star)@J0_cur\n",
    "    #calculate transient term\n",
    "    Transient_cur = (np.eye(N_s) - alpha[N]*A_tilde)@Transient_cur\n",
    "    #calculate J0\n",
    "    J0_cur = (np.eye(N_s) - alpha[N]*A_star)@J0_cur + alpha[N]*eps\n",
    "    #TD update\n",
    "    V[s0] = V[s0] + alpha[N]*eps_TD\n",
    "    #save value function\n",
    "    V_funcs[N] = V\n",
    "    #save J_0\n",
    "    J_0[N] = J0_cur\n",
    "    #save J_1\n",
    "    J_1[N] = J1_cur\n",
    "    #save transient term\n",
    "    Transient[N] = Transient_cur\n",
    "    #update current state\n",
    "    s0 = s"
   ]
  },
  {
   "cell_type": "code",
   "execution_count": null,
   "metadata": {},
   "outputs": [],
   "source": [
    "norms = np.zeros(N_iters)\n",
    "norms_J0_rem = np.zeros(N_iters)\n",
    "norms_J1_rem = np.zeros(N_iters)\n",
    "norms_transient = np.zeros(N_iters)\n",
    "\n",
    "norms_J0 = np.zeros(N_iters)\n",
    "norms_J1 = np.zeros(N_iters)\n",
    "for i in range(N_iters):\n",
    "    norms[i] = np.linalg.norm(V_funcs[i,:]-theta_star)\n",
    "    norms_J0_rem[i] = np.linalg.norm(V_funcs[i,:] - J_0[i,:]-theta_star)\n",
    "    norms_J1_rem[i] = np.linalg.norm(V_funcs[i,:] - J_0[i,:]-J_1[i,:]-theta_star)\n",
    "    norms_transient[i] = np.linalg.norm(Transient[i])\n",
    "    norms_J0[i] = np.linalg.norm(J_0[i,:])\n",
    "    norms_J1[i] = np.linalg.norm(J_1[i,:])"
   ]
  },
  {
   "cell_type": "code",
   "execution_count": null,
   "metadata": {},
   "outputs": [],
   "source": [
    "import matplotlib.pyplot as plt\n",
    "N_start = 5*10**4\n",
    "plt.figure(figsize=(12,8)) \n",
    "plt.plot(np.arange(N_start,N_iters), norms[N_start:], color='r' ,label='MSE error') \n",
    "plt.plot(np.arange(N_start,N_iters), norms_J0_rem[N_start:], color='g' ,label='MSE error without J_0') \n",
    "plt.plot(np.arange(N_start,N_iters), norms_J1_rem[N_start:], color='b' ,label='MSE error without J_0, J_1')\n",
    "plt.xlabel('iteration number',fontsize = 18)\n",
    "#plt.ylabel('cost',fontsize = 18) \n",
    "#plt.title('VR cost for MDCV, Gaussian distribution, quadratic target',fontsize = 20)\n",
    "#plt.yscale('log')\n",
    "plt.legend() \n",
    "plt.show()"
   ]
  },
  {
   "cell_type": "code",
   "execution_count": null,
   "metadata": {},
   "outputs": [],
   "source": [
    "import matplotlib.pyplot as plt\n",
    "N_start = 1\n",
    "plt.figure(figsize=(12,8)) \n",
    "plt.plot(np.arange(N_start,N_iters), norms_transient[N_start:], color='r' ,label='Norm of transient term') \n",
    "plt.plot(np.arange(N_start,N_iters), norms_J0[N_start:], color='g' ,label='Norm of J_0') \n",
    "plt.plot(np.arange(N_start,N_iters), norms_J1[N_start:], color='b' ,label='Norm of J_1') \n",
    "plt.xlabel('iteration number',fontsize = 18)\n",
    "#plt.ylabel('cost',fontsize = 18) \n",
    "#plt.title('VR cost for MDCV, Gaussian distribution, quadratic target',fontsize = 20)\n",
    "plt.yscale('log')\n",
    "plt.legend() \n",
    "plt.show()"
   ]
  },
  {
   "cell_type": "code",
   "execution_count": null,
   "metadata": {},
   "outputs": [],
   "source": []
  },
  {
   "cell_type": "code",
   "execution_count": null,
   "metadata": {},
   "outputs": [],
   "source": []
  }
 ],
 "metadata": {
  "kernelspec": {
   "display_name": "Python 3",
   "language": "python",
   "name": "python3"
  },
  "language_info": {
   "codemirror_mode": {
    "name": "ipython",
    "version": 3
   },
   "file_extension": ".py",
   "mimetype": "text/x-python",
   "name": "python",
   "nbconvert_exporter": "python",
   "pygments_lexer": "ipython3",
   "version": "3.6.7"
  }
 },
 "nbformat": 4,
 "nbformat_minor": 2
}
