{
 "cells": [
  {
   "cell_type": "code",
   "execution_count": 1,
   "metadata": {},
   "outputs": [],
   "source": [
    "import numpy as np\n",
    "import copy\n",
    "from multiprocessing import Pool\n",
    "import multiprocessing"
   ]
  },
  {
   "cell_type": "code",
   "execution_count": 2,
   "metadata": {},
   "outputs": [],
   "source": [
    "def init_pi(N_a,N_s):\n",
    "    \"\"\"\n",
    "    function to generate policy,\n",
    "    inputs:\n",
    "        N_a - number of actions;\n",
    "        N_s - number of states;\n",
    "    outputs:\n",
    "        pi(a|s) - np.array of shape N_a x N_s\n",
    "    \"\"\"\n",
    "    np.random.seed(1453)\n",
    "    Pi_matr = np.random.uniform(0.0,1.0,(N_a,N_s))\n",
    "    norm_coef = Pi_matr.sum(axis=0)\n",
    "    Pi_matr = Pi_matr / norm_coef.reshape((1,N_s))\n",
    "    #check if stochastic\n",
    "    print(Pi_matr.sum(axis=0))\n",
    "    return Pi_matr"
   ]
  },
  {
   "cell_type": "code",
   "execution_count": 3,
   "metadata": {},
   "outputs": [],
   "source": [
    "def generate_dynamics(N_a,N_s,b):\n",
    "    \"\"\"\n",
    "    function to generate transition probabilities,\n",
    "    inputs:\n",
    "        N_a - number of actions;\n",
    "        N_s - number of states;\n",
    "        b - branching number\n",
    "    outputs:\n",
    "        pi(s'|s,a) - np.array of shape N_s x N_s x N_a\n",
    "    \"\"\"\n",
    "    np.random.seed(1812)\n",
    "    inds_nonzero = np.zeros((N_s,N_a,b),dtype = int)\n",
    "    for i in range(N_s):\n",
    "        for j in range(N_a):\n",
    "            inds_nonzero[i,j] = np.random.choice(N_s, size=b, replace=False)\n",
    "    Pi_matr = np.zeros((N_s,N_s,N_a),dtype=float)\n",
    "    for i in range(N_s):\n",
    "        for j in range(N_a):\n",
    "            Pi_matr[inds_nonzero[i,j],i,j] = np.random.uniform(0.0,1.0,b)\n",
    "    norm_coef = Pi_matr.sum(axis=0)\n",
    "    Pi_matr = Pi_matr / norm_coef.reshape((1,N_s,N_a))\n",
    "    print(Pi_matr.sum(axis=0))\n",
    "    return Pi_matr,inds_nonzero"
   ]
  },
  {
   "cell_type": "code",
   "execution_count": 4,
   "metadata": {},
   "outputs": [],
   "source": [
    "def state_transitions(P,pi):\n",
    "    \"\"\"\n",
    "    function to generate transition probabilities,\n",
    "    inputs:\n",
    "        P(s'|s,a) - np.array of shape N_s x N_s x N_a, transition probabilities;\n",
    "        pi(a|s) - np.array of shape N_a x N_s, policy;\n",
    "    outputs:\n",
    "        p(s'|s) - transition probability matrix of shape (N_s,N_s)\n",
    "    \"\"\"\n",
    "    np.random.seed(1812)\n",
    "    P_s = np.zeros((N_s,N_s),dtype = float)\n",
    "    for i in range(N_s):\n",
    "        for j in range(N_s):\n",
    "            P_s[i,j] = np.dot(P[i,j,:],pi[:,j])\n",
    "    return P_s "
   ]
  },
  {
   "cell_type": "code",
   "execution_count": 5,
   "metadata": {},
   "outputs": [],
   "source": [
    "def init_rewards(N_a,N_s):\n",
    "    \"\"\"\n",
    "    function to generate rewards,\n",
    "    inputs:\n",
    "        N_a - number of actions;\n",
    "        N_s - number of states;\n",
    "    outputs:\n",
    "        R(a,s) - np.array of rewards (shape N_a x N_s)  \n",
    "    \"\"\"\n",
    "    np.random.seed(1821)\n",
    "    R = Pi_matr = np.random.uniform(0.0,2.0,(N_a,N_s))\n",
    "    return R"
   ]
  },
  {
   "cell_type": "code",
   "execution_count": 6,
   "metadata": {},
   "outputs": [],
   "source": [
    "#global constants\n",
    "N_a = 10\n",
    "N_s = 50\n",
    "#gamma = 0.99\n",
    "gamma = 0.9\n",
    "b = 2"
   ]
  },
  {
   "cell_type": "code",
   "execution_count": 7,
   "metadata": {},
   "outputs": [
    {
     "name": "stdout",
     "output_type": "stream",
     "text": [
      "[1. 1. 1. 1. 1. 1. 1. 1. 1. 1. 1. 1. 1. 1. 1. 1. 1. 1. 1. 1. 1. 1. 1. 1.\n",
      " 1. 1. 1. 1. 1. 1. 1. 1. 1. 1. 1. 1. 1. 1. 1. 1. 1. 1. 1. 1. 1. 1. 1. 1.\n",
      " 1. 1.]\n",
      "[[1. 1. 1. 1. 1. 1. 1. 1. 1. 1.]\n",
      " [1. 1. 1. 1. 1. 1. 1. 1. 1. 1.]\n",
      " [1. 1. 1. 1. 1. 1. 1. 1. 1. 1.]\n",
      " [1. 1. 1. 1. 1. 1. 1. 1. 1. 1.]\n",
      " [1. 1. 1. 1. 1. 1. 1. 1. 1. 1.]\n",
      " [1. 1. 1. 1. 1. 1. 1. 1. 1. 1.]\n",
      " [1. 1. 1. 1. 1. 1. 1. 1. 1. 1.]\n",
      " [1. 1. 1. 1. 1. 1. 1. 1. 1. 1.]\n",
      " [1. 1. 1. 1. 1. 1. 1. 1. 1. 1.]\n",
      " [1. 1. 1. 1. 1. 1. 1. 1. 1. 1.]\n",
      " [1. 1. 1. 1. 1. 1. 1. 1. 1. 1.]\n",
      " [1. 1. 1. 1. 1. 1. 1. 1. 1. 1.]\n",
      " [1. 1. 1. 1. 1. 1. 1. 1. 1. 1.]\n",
      " [1. 1. 1. 1. 1. 1. 1. 1. 1. 1.]\n",
      " [1. 1. 1. 1. 1. 1. 1. 1. 1. 1.]\n",
      " [1. 1. 1. 1. 1. 1. 1. 1. 1. 1.]\n",
      " [1. 1. 1. 1. 1. 1. 1. 1. 1. 1.]\n",
      " [1. 1. 1. 1. 1. 1. 1. 1. 1. 1.]\n",
      " [1. 1. 1. 1. 1. 1. 1. 1. 1. 1.]\n",
      " [1. 1. 1. 1. 1. 1. 1. 1. 1. 1.]\n",
      " [1. 1. 1. 1. 1. 1. 1. 1. 1. 1.]\n",
      " [1. 1. 1. 1. 1. 1. 1. 1. 1. 1.]\n",
      " [1. 1. 1. 1. 1. 1. 1. 1. 1. 1.]\n",
      " [1. 1. 1. 1. 1. 1. 1. 1. 1. 1.]\n",
      " [1. 1. 1. 1. 1. 1. 1. 1. 1. 1.]\n",
      " [1. 1. 1. 1. 1. 1. 1. 1. 1. 1.]\n",
      " [1. 1. 1. 1. 1. 1. 1. 1. 1. 1.]\n",
      " [1. 1. 1. 1. 1. 1. 1. 1. 1. 1.]\n",
      " [1. 1. 1. 1. 1. 1. 1. 1. 1. 1.]\n",
      " [1. 1. 1. 1. 1. 1. 1. 1. 1. 1.]\n",
      " [1. 1. 1. 1. 1. 1. 1. 1. 1. 1.]\n",
      " [1. 1. 1. 1. 1. 1. 1. 1. 1. 1.]\n",
      " [1. 1. 1. 1. 1. 1. 1. 1. 1. 1.]\n",
      " [1. 1. 1. 1. 1. 1. 1. 1. 1. 1.]\n",
      " [1. 1. 1. 1. 1. 1. 1. 1. 1. 1.]\n",
      " [1. 1. 1. 1. 1. 1. 1. 1. 1. 1.]\n",
      " [1. 1. 1. 1. 1. 1. 1. 1. 1. 1.]\n",
      " [1. 1. 1. 1. 1. 1. 1. 1. 1. 1.]\n",
      " [1. 1. 1. 1. 1. 1. 1. 1. 1. 1.]\n",
      " [1. 1. 1. 1. 1. 1. 1. 1. 1. 1.]\n",
      " [1. 1. 1. 1. 1. 1. 1. 1. 1. 1.]\n",
      " [1. 1. 1. 1. 1. 1. 1. 1. 1. 1.]\n",
      " [1. 1. 1. 1. 1. 1. 1. 1. 1. 1.]\n",
      " [1. 1. 1. 1. 1. 1. 1. 1. 1. 1.]\n",
      " [1. 1. 1. 1. 1. 1. 1. 1. 1. 1.]\n",
      " [1. 1. 1. 1. 1. 1. 1. 1. 1. 1.]\n",
      " [1. 1. 1. 1. 1. 1. 1. 1. 1. 1.]\n",
      " [1. 1. 1. 1. 1. 1. 1. 1. 1. 1.]\n",
      " [1. 1. 1. 1. 1. 1. 1. 1. 1. 1.]\n",
      " [1. 1. 1. 1. 1. 1. 1. 1. 1. 1.]]\n"
     ]
    }
   ],
   "source": [
    "#init policy matrix\n",
    "Policy = init_pi(N_a,N_s)\n",
    "#init transition matrix\n",
    "P,Inds_nz = generate_dynamics(N_a,N_s,b)\n",
    "#init rewards\n",
    "R = init_rewards(N_a,N_s)\n",
    "#init state transition matrix\n",
    "S_trans = state_transitions(P,Policy)"
   ]
  },
  {
   "cell_type": "markdown",
   "metadata": {},
   "source": [
    "### Solve system to find $\\theta^*$ (i.e. true $V_{\\pi}(s)$)"
   ]
  },
  {
   "cell_type": "code",
   "execution_count": 8,
   "metadata": {},
   "outputs": [
    {
     "name": "stdout",
     "output_type": "stream",
     "text": [
      "[9.84953413 9.52818882 9.10077358 9.20650432 9.46348305 9.53415339\n",
      " 9.60132343 9.58224446 9.02248147 9.55440038 9.61889827 9.51152889\n",
      " 9.24885002 9.77558082 9.80059676 9.89326659 9.40835507 9.31492265\n",
      " 9.19517124 9.50103756 9.20002613 9.22017523 9.09961668 9.38826035\n",
      " 9.25805059 9.07006076 9.32369281 9.5107984  9.51615943 9.50436866\n",
      " 9.38564581 9.64467251 9.71316469 9.33079435 9.09258728 9.66603574\n",
      " 9.11930009 9.36024236 9.35390133 9.24264092 9.57049198 9.25693893\n",
      " 9.35382775 9.29097659 9.04836883 9.14591195 9.4543717  9.56269105\n",
      " 9.68137285 9.68337974]\n"
     ]
    }
   ],
   "source": [
    "#system matrix\n",
    "A = np.eye(N_s) - gamma*(S_trans.T)\n",
    "#right hand side\n",
    "b = np.sum(Policy*R,axis=0)\n",
    "theta_star = np.linalg.inv(A) @ b\n",
    "print(theta_star)"
   ]
  },
  {
   "cell_type": "markdown",
   "metadata": {},
   "source": [
    "### Find stationary distribution over state space"
   ]
  },
  {
   "cell_type": "code",
   "execution_count": 9,
   "metadata": {},
   "outputs": [
    {
     "name": "stdout",
     "output_type": "stream",
     "text": [
      "[ 1.        +0.j         -0.26430692+0.12903984j -0.26430692-0.12903984j\n",
      " -0.28404277+0.03470012j -0.28404277-0.03470012j -0.13168546+0.2269733j\n",
      " -0.13168546-0.2269733j   0.24202435+0.09985377j  0.24202435-0.09985377j\n",
      "  0.13218168+0.22116056j  0.13218168-0.22116056j  0.0566535 +0.23111173j\n",
      "  0.0566535 -0.23111173j  0.1641442 +0.1417069j   0.1641442 -0.1417069j\n",
      "  0.21104999+0.j          0.19396104+0.06409327j  0.19396104-0.06409327j\n",
      "  0.18542299+0.j          0.11909186+0.16312541j  0.11909186-0.16312541j\n",
      " -0.20534831+0.10750108j -0.20534831-0.10750108j -0.00321329+0.21593335j\n",
      " -0.00321329-0.21593335j -0.06451847+0.20039498j -0.06451847-0.20039498j\n",
      " -0.07494813+0.18662476j -0.07494813-0.18662476j  0.05846562+0.16833902j\n",
      "  0.05846562-0.16833902j -0.20275598+0.j         -0.14950415+0.07123611j\n",
      " -0.14950415-0.07123611j -0.16728513+0.j          0.01340965+0.15919804j\n",
      "  0.01340965-0.15919804j  0.12790264+0.j          0.07303261+0.09720718j\n",
      "  0.07303261-0.09720718j -0.03112849+0.09440118j -0.03112849-0.09440118j\n",
      " -0.02492401+0.08228834j -0.02492401-0.08228834j -0.09372501+0.j\n",
      " -0.08352664+0.j          0.05650244+0.00108439j  0.05650244-0.00108439j\n",
      " -0.02029534+0.01161504j -0.02029534-0.01161504j]\n",
      "[0.00609557 0.01256429 0.01758379 0.02846945 0.01650661 0.02232034\n",
      " 0.01764972 0.01836413 0.02052604 0.0169197  0.02042633 0.02464528\n",
      " 0.0286067  0.01740979 0.01215713 0.01966934 0.03114157 0.02476968\n",
      " 0.02056101 0.01390835 0.0289793  0.011834   0.02069773 0.02268115\n",
      " 0.02654292 0.0271129  0.02221969 0.01788068 0.03852186 0.02434913\n",
      " 0.0193267  0.02061831 0.01886658 0.01765171 0.01030513 0.01464193\n",
      " 0.02032358 0.01319325 0.01554977 0.01614873 0.01989349 0.01555932\n",
      " 0.02316574 0.01171257 0.02090212 0.02540777 0.01597746 0.02504254\n",
      " 0.02656083 0.01803828]\n",
      "1.0\n"
     ]
    }
   ],
   "source": [
    "#note that in my notations they are usual (right) eigenvalues\n",
    "eigvals, eigfuncs = np.linalg.eig(S_trans)\n",
    "print(eigvals)\n",
    "pi_states = -np.real(eigfuncs[:,0])\n",
    "pi_states = pi_states/np.sum(pi_states)\n",
    "#pi_states - statinary distribution over states\n",
    "print(pi_states)\n",
    "print(np.sum(pi_states))"
   ]
  },
  {
   "cell_type": "markdown",
   "metadata": {},
   "source": [
    "### Find $\\theta^*$ by another approach"
   ]
  },
  {
   "cell_type": "code",
   "execution_count": 10,
   "metadata": {},
   "outputs": [
    {
     "name": "stdout",
     "output_type": "stream",
     "text": [
      "error between to True solutions:  1.7852165294699933e-14\n"
     ]
    }
   ],
   "source": [
    "A_star = np.zeros((N_s,N_s),dtype=float)\n",
    "for i in range(N_s):\n",
    "    for j in range(N_s):\n",
    "        A_star[i,j] = pi_states[i]*S_trans[j,i]\n",
    "A_star = np.diag(pi_states) - gamma*A_star\n",
    "b_star = b*pi_states\n",
    "theta_star_new = np.linalg.inv(A_star) @ b_star\n",
    "print(\"error between to True solutions: \",np.linalg.norm(theta_star-theta_star_new))"
   ]
  },
  {
   "cell_type": "markdown",
   "metadata": {},
   "source": [
    "### Run TD$(0)$"
   ]
  },
  {
   "cell_type": "code",
   "execution_count": 11,
   "metadata": {},
   "outputs": [],
   "source": [
    "N_iters = 2*10**6\n",
    "v0 = np.zeros(N_s,dtype=float)\n",
    "s0 = np.random.choice(N_s)\n",
    "#step size\n",
    "alpha_0 = 1.0\n",
    "alpha = np.zeros(N_iters,dtype = float)\n",
    "N_0 = 10**3\n",
    "powers = np.array([0.55,0.6,0.65,0.7,0.75,0.8,0.85,0.9],dtype=float)\n",
    "alpha = np.zeros((len(powers),N_iters),dtype=float)\n",
    "for j in range(len(powers)):\n",
    "    for i in range(N_iters):\n",
    "        alpha[j][i] = 100.0/(N_0+i)**(powers[j])"
   ]
  },
  {
   "cell_type": "code",
   "execution_count": 12,
   "metadata": {},
   "outputs": [
    {
     "name": "stdout",
     "output_type": "stream",
     "text": [
      "(10, 50)\n",
      "[1. 1. 1. 1. 1. 1. 1. 1. 1. 1. 1. 1. 1. 1. 1. 1. 1. 1. 1. 1. 1. 1. 1. 1.\n",
      " 1. 1. 1. 1. 1. 1. 1. 1. 1. 1. 1. 1. 1. 1. 1. 1. 1. 1. 1. 1. 1. 1. 1. 1.\n",
      " 1. 1.]\n"
     ]
    }
   ],
   "source": [
    "print(Policy.shape)\n",
    "print(Policy.sum(axis=0))"
   ]
  },
  {
   "cell_type": "code",
   "execution_count": 13,
   "metadata": {},
   "outputs": [],
   "source": [
    "def main_loop(j,alpha,s0):\n",
    "    V_funcs = np.zeros((N_iters,N_s))\n",
    "    J_0 = np.zeros((N_iters,N_s))\n",
    "    J_1 = np.zeros((N_iters,N_s))\n",
    "    Transient = np.zeros((N_iters,N_s))\n",
    "    V = np.zeros(N_s,dtype=float)\n",
    "    J0_cur = np.zeros(N_s,dtype=float)\n",
    "    J1_cur = np.zeros(N_s,dtype=float)\n",
    "    Transient_cur = v0 - theta_star\n",
    "    A_tilde = np.zeros((N_s,N_s),dtype=float)\n",
    "    ###Main loop\n",
    "    for N in range(N_iters):\n",
    "        #sample action\n",
    "        a = np.random.choice(N_a, 1, replace=True, p=Policy[:,s0])\n",
    "        a=a[0]\n",
    "        #sample next state\n",
    "        s = np.random.choice(Inds_nz[s0,a], 1, replace=True, p=P[Inds_nz[s0,a],s0,a])\n",
    "        s=s[0]\n",
    "        #calculate J0\n",
    "        eps = np.zeros(N_s,dtype=float)\n",
    "        eps[s0] = R[a,s0] + gamma*theta_star[s]-theta_star[s0]\n",
    "        eps_TD = R[a,s0] + gamma*V[s]-V[s0]\n",
    "        #calculate J1\n",
    "        A_tilde[s0,s0] = 1.0\n",
    "        A_tilde[s0,s] = -gamma\n",
    "        J1_cur = (np.eye(N_s) - alpha[j][N]*A_star)@J1_cur - alpha[j][N]*(A_tilde-A_star)@J0_cur\n",
    "        #calculate transient term\n",
    "        Transient_cur = (np.eye(N_s) - alpha[j][N]*A_tilde)@Transient_cur\n",
    "        #calculate J0\n",
    "        J0_cur = (np.eye(N_s) - alpha[j][N]*A_star)@J0_cur + alpha[j][N]*eps\n",
    "        #TD update\n",
    "        V[s0] = V[s0] + alpha[j][N]*eps_TD\n",
    "        #save value function\n",
    "        V_funcs[N] = V\n",
    "        #save J_0\n",
    "        J_0[N] = J0_cur\n",
    "        #save J_1\n",
    "        J_1[N] = J1_cur\n",
    "        #save transient term\n",
    "        Transient[N] = Transient_cur\n",
    "        #vanish A_tilde\n",
    "        A_tilde[s0,s0] = 0.0\n",
    "        A_tilde[s0,s] = 0.0\n",
    "        #update current state\n",
    "        s0 = s\n",
    "    return np.asarray([V_funcs,J_0,J_1,Transient])\n",
    "    "
   ]
  },
  {
   "cell_type": "code",
   "execution_count": null,
   "metadata": {},
   "outputs": [],
   "source": [
    "nbcores = multiprocessing.cpu_count()\n",
    "trav = Pool(nbcores)\n",
    "res_indep = trav.starmap(main_loop, [(j,alpha,s0) for j in range (len(powers))])\n",
    "trav.close()"
   ]
  },
  {
   "cell_type": "code",
   "execution_count": null,
   "metadata": {},
   "outputs": [],
   "source": [
    "res_indep = np.asarray(res_indep)\n",
    "print(res_indep.shape)"
   ]
  },
  {
   "cell_type": "code",
   "execution_count": null,
   "metadata": {},
   "outputs": [],
   "source": [
    "norms = np.zeros((len(powers),N_iters),dtype=float)\n",
    "norms_J0_rem = np.zeros((len(powers),N_iters),dtype=float)\n",
    "norms_J1_rem = np.zeros((len(powers),N_iters),dtype=float)\n",
    "norms_transient = np.zeros((len(powers),N_iters),dtype=float)\n",
    "\n",
    "norms_J0 = np.zeros((len(powers),N_iters),dtype=float)\n",
    "norms_J1 = np.zeros((len(powers),N_iters),dtype=float)\n",
    "for j in range(len(powers)):\n",
    "    for i in range(N_iters):\n",
    "        norms[j][i] = np.linalg.norm(res_indep[j,0,i,:]-theta_star)\n",
    "        norms_J0_rem[j][i] = np.linalg.norm(res_indep[j,0,i,:] - res_indep[j,1,i,:]-theta_star)\n",
    "        norms_J1_rem[j][i] = np.linalg.norm(res_indep[j,0,i,:] - res_indep[j,1,i,:]-res_indep[j,2,i,:]-theta_star)\n",
    "        norms_transient[j][i] = np.linalg.norm(res_indep[j,3,i,:])\n",
    "        norms_J0[j][i] = np.linalg.norm(res_indep[j,1,i,:])\n",
    "        norms_J1[j][i] = np.linalg.norm(res_indep[j,2,i,:])"
   ]
  },
  {
   "cell_type": "markdown",
   "metadata": {},
   "source": [
    "### Save results"
   ]
  },
  {
   "cell_type": "code",
   "execution_count": null,
   "metadata": {},
   "outputs": [],
   "source": []
  },
  {
   "cell_type": "markdown",
   "metadata": {},
   "source": [
    "### Plot graphics"
   ]
  },
  {
   "cell_type": "code",
   "execution_count": null,
   "metadata": {},
   "outputs": [],
   "source": [
    "import matplotlib.pyplot as plt\n",
    "N_start = 0\n",
    "j=3\n",
    "plt.figure(figsize=(12,8)) \n",
    "plt.plot(np.arange(N_start,N_iters), norms[j][N_start:], color='r' ,label='MSE error') \n",
    "plt.plot(np.arange(N_start,N_iters), norms_J0_rem[j][N_start:], color='g' ,label='MSE error without J_0') \n",
    "plt.plot(np.arange(N_start,N_iters), norms_J1_rem[j][N_start:], color='b' ,label='MSE error without J_0, J_1')\n",
    "plt.xlabel('iteration number',fontsize = 18)\n",
    "#plt.ylabel('cost',fontsize = 18) \n",
    "#plt.title('VR cost for MDCV, Gaussian distribution, quadratic target',fontsize = 20)\n",
    "plt.yscale('log')\n",
    "plt.legend() \n",
    "plt.show()"
   ]
  },
  {
   "cell_type": "code",
   "execution_count": null,
   "metadata": {},
   "outputs": [],
   "source": [
    "#initialize policy\n",
    "V = copy.deepcopy(v0)\n",
    "J0_cur = np.zeros(N_s,dtype=float)\n",
    "J1_cur = np.zeros(N_s,dtype=float)\n",
    "Transient_cur = v0 - theta_star\n",
    "###Main loop\n",
    "for N in range(N_iters):\n",
    "    #sample action\n",
    "    a = np.random.choice(N_a, 1, replace=True, p=Policy[:,s0])\n",
    "    a=a[0]\n",
    "    #sample next state\n",
    "    s = np.random.choice(Inds_nz[s0,a], 1, replace=True, p=P[Inds_nz[s0,a],s0,a])\n",
    "    s=s[0]\n",
    "    #calculate J0\n",
    "    eps = np.zeros(N_s,dtype=float)\n",
    "    eps[s0] = R[a,s0] + gamma*theta_star[s]-theta_star[s0]\n",
    "    eps_TD = R[a,s0] + gamma*V[s]-V[s0]\n",
    "    #calculate J1\n",
    "    A_tilde = np.zeros((N_s,N_s),dtype=float)\n",
    "    A_tilde[s0,s0] = 1.0\n",
    "    A_tilde[s0,s] = -gamma\n",
    "    J1_cur = (np.eye(N_s) - alpha[N]*A_star)@J1_cur - alpha[N]*(A_tilde-A_star)@J0_cur\n",
    "    #calculate transient term\n",
    "    Transient_cur = (np.eye(N_s) - alpha[N]*A_tilde)@Transient_cur\n",
    "    #calculate J0\n",
    "    J0_cur = (np.eye(N_s) - alpha[N]*A_star)@J0_cur + alpha[N]*eps\n",
    "    #TD update\n",
    "    V[s0] = V[s0] + alpha[N]*eps_TD\n",
    "    #save value function\n",
    "    V_funcs[N] = V\n",
    "    #save J_0\n",
    "    J_0[N] = J0_cur\n",
    "    #save J_1\n",
    "    J_1[N] = J1_cur\n",
    "    #save transient term\n",
    "    Transient[N] = Transient_cur\n",
    "    #update current state\n",
    "    s0 = s"
   ]
  },
  {
   "cell_type": "code",
   "execution_count": null,
   "metadata": {},
   "outputs": [],
   "source": [
    "norms = np.zeros(N_iters)\n",
    "norms_J0_rem = np.zeros(N_iters)\n",
    "norms_J1_rem = np.zeros(N_iters)\n",
    "norms_transient = np.zeros(N_iters)\n",
    "\n",
    "norms_J0 = np.zeros(N_iters)\n",
    "norms_J1 = np.zeros(N_iters)\n",
    "for i in range(N_iters):\n",
    "    norms[i] = np.linalg.norm(V_funcs[i,:]-theta_star)\n",
    "    norms_J0_rem[i] = np.linalg.norm(V_funcs[i,:] - J_0[i,:]-theta_star)\n",
    "    norms_J1_rem[i] = np.linalg.norm(V_funcs[i,:] - J_0[i,:]-J_1[i,:]-theta_star)\n",
    "    norms_transient[i] = np.linalg.norm(Transient[i])\n",
    "    norms_J0[i] = np.linalg.norm(J_0[i,:])\n",
    "    norms_J1[i] = np.linalg.norm(J_1[i,:])"
   ]
  },
  {
   "cell_type": "code",
   "execution_count": null,
   "metadata": {},
   "outputs": [],
   "source": [
    "import matplotlib.pyplot as plt\n",
    "N_start = 5*10**4\n",
    "plt.figure(figsize=(12,8)) \n",
    "plt.plot(np.arange(N_start,N_iters), norms[N_start:], color='r' ,label='MSE error') \n",
    "plt.plot(np.arange(N_start,N_iters), norms_J0_rem[N_start:], color='g' ,label='MSE error without J_0') \n",
    "plt.plot(np.arange(N_start,N_iters), norms_J1_rem[N_start:], color='b' ,label='MSE error without J_0, J_1')\n",
    "plt.xlabel('iteration number',fontsize = 18)\n",
    "#plt.ylabel('cost',fontsize = 18) \n",
    "#plt.title('VR cost for MDCV, Gaussian distribution, quadratic target',fontsize = 20)\n",
    "#plt.yscale('log')\n",
    "plt.legend() \n",
    "plt.show()"
   ]
  },
  {
   "cell_type": "code",
   "execution_count": null,
   "metadata": {},
   "outputs": [],
   "source": [
    "import matplotlib.pyplot as plt\n",
    "N_start = 1\n",
    "plt.figure(figsize=(12,8)) \n",
    "plt.plot(np.arange(N_start,N_iters), norms_transient[N_start:], color='r' ,label='Norm of transient term') \n",
    "plt.plot(np.arange(N_start,N_iters), norms_J0[N_start:], color='g' ,label='Norm of J_0') \n",
    "plt.plot(np.arange(N_start,N_iters), norms_J1[N_start:], color='b' ,label='Norm of J_1') \n",
    "plt.xlabel('iteration number',fontsize = 18)\n",
    "#plt.ylabel('cost',fontsize = 18) \n",
    "#plt.title('VR cost for MDCV, Gaussian distribution, quadratic target',fontsize = 20)\n",
    "plt.yscale('log')\n",
    "plt.legend() \n",
    "plt.show()"
   ]
  },
  {
   "cell_type": "code",
   "execution_count": null,
   "metadata": {},
   "outputs": [],
   "source": []
  },
  {
   "cell_type": "code",
   "execution_count": null,
   "metadata": {},
   "outputs": [],
   "source": []
  }
 ],
 "metadata": {
  "kernelspec": {
   "display_name": "Python 3",
   "language": "python",
   "name": "python3"
  },
  "language_info": {
   "codemirror_mode": {
    "name": "ipython",
    "version": 3
   },
   "file_extension": ".py",
   "mimetype": "text/x-python",
   "name": "python",
   "nbconvert_exporter": "python",
   "pygments_lexer": "ipython3",
   "version": "3.7.3"
  }
 },
 "nbformat": 4,
 "nbformat_minor": 2
}
