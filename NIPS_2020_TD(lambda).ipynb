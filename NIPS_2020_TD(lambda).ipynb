{
 "cells": [
  {
   "cell_type": "code",
   "execution_count": 1,
   "metadata": {},
   "outputs": [],
   "source": [
    "import numpy as np\n",
    "import copy\n",
    "from multiprocessing import Pool\n",
    "import multiprocessing\n",
    "from scipy import stats"
   ]
  },
  {
   "cell_type": "code",
   "execution_count": 2,
   "metadata": {},
   "outputs": [],
   "source": [
    "def init_pi(N_a,N_s):\n",
    "    \"\"\"\n",
    "    function to generate policy,\n",
    "    inputs:\n",
    "        N_a - number of actions;\n",
    "        N_s - number of states;\n",
    "    outputs:\n",
    "        pi(a|s) - np.array of shape N_a x N_s\n",
    "    \"\"\"\n",
    "    np.random.seed(1453)\n",
    "    Pi_matr = np.random.uniform(0.0,1.0,(N_a,N_s))\n",
    "    norm_coef = Pi_matr.sum(axis=0)\n",
    "    Pi_matr = Pi_matr / norm_coef.reshape((1,N_s))\n",
    "    #check if stochastic\n",
    "    print(Pi_matr.sum(axis=0))\n",
    "    return Pi_matr"
   ]
  },
  {
   "cell_type": "code",
   "execution_count": 3,
   "metadata": {},
   "outputs": [],
   "source": [
    "def generate_dynamics(N_a,N_s,b):\n",
    "    \"\"\"\n",
    "    function to generate transition probabilities,\n",
    "    inputs:\n",
    "        N_a - number of actions;\n",
    "        N_s - number of states;\n",
    "        b - branching number\n",
    "    outputs:\n",
    "        pi(s'|s,a) - np.array of shape N_s x N_s x N_a\n",
    "    \"\"\"\n",
    "    np.random.seed(1812)\n",
    "    inds_nonzero = np.zeros((N_s,N_a,b),dtype = int)\n",
    "    for i in range(N_s):\n",
    "        for j in range(N_a):\n",
    "            inds_nonzero[i,j] = np.random.choice(N_s, size=b, replace=False)\n",
    "    Pi_matr = np.zeros((N_s,N_s,N_a),dtype=float)\n",
    "    for i in range(N_s):\n",
    "        for j in range(N_a):\n",
    "            Pi_matr[inds_nonzero[i,j],i,j] = np.random.uniform(0.0,1.0,b)\n",
    "    norm_coef = Pi_matr.sum(axis=0)\n",
    "    Pi_matr = Pi_matr / norm_coef.reshape((1,N_s,N_a))\n",
    "    print(Pi_matr.sum(axis=0))\n",
    "    return Pi_matr,inds_nonzero"
   ]
  },
  {
   "cell_type": "code",
   "execution_count": 4,
   "metadata": {},
   "outputs": [],
   "source": [
    "def state_transitions(P,pi):\n",
    "    \"\"\"\n",
    "    function to generate transition probabilities,\n",
    "    inputs:\n",
    "        P(s'|s,a) - np.array of shape N_s x N_s x N_a, transition probabilities;\n",
    "        pi(a|s) - np.array of shape N_a x N_s, policy;\n",
    "    outputs:\n",
    "        p(s'|s) - transition probability matrix of shape (N_s,N_s)\n",
    "    \"\"\"\n",
    "    np.random.seed(1812)\n",
    "    P_s = np.zeros((N_s,N_s),dtype = float)\n",
    "    for i in range(N_s):\n",
    "        for j in range(N_s):\n",
    "            P_s[i,j] = np.dot(P[i,j,:],pi[:,j])\n",
    "    return P_s "
   ]
  },
  {
   "cell_type": "code",
   "execution_count": 5,
   "metadata": {},
   "outputs": [],
   "source": [
    "def init_rewards(N_a,N_s):\n",
    "    \"\"\"\n",
    "    function to generate rewards,\n",
    "    inputs:\n",
    "        N_a - number of actions;\n",
    "        N_s - number of states;\n",
    "    outputs:\n",
    "        R(a,s) - np.array of rewards (shape N_a x N_s)  \n",
    "    \"\"\"\n",
    "    np.random.seed(1821)\n",
    "    R = Pi_matr = np.random.uniform(0.0,2.0,(N_a,N_s))\n",
    "    return R"
   ]
  },
  {
   "cell_type": "code",
   "execution_count": 6,
   "metadata": {},
   "outputs": [],
   "source": [
    "#global constants\n",
    "N_a = 10\n",
    "N_s = 50\n",
    "#gamma = 0.99\n",
    "gamma = 0.9\n",
    "b = 2"
   ]
  },
  {
   "cell_type": "code",
   "execution_count": 7,
   "metadata": {},
   "outputs": [
    {
     "name": "stdout",
     "output_type": "stream",
     "text": [
      "[1. 1. 1. 1. 1. 1. 1. 1. 1. 1. 1. 1. 1. 1. 1. 1. 1. 1. 1. 1. 1. 1. 1. 1.\n",
      " 1. 1. 1. 1. 1. 1. 1. 1. 1. 1. 1. 1. 1. 1. 1. 1. 1. 1. 1. 1. 1. 1. 1. 1.\n",
      " 1. 1.]\n",
      "[[1. 1. 1. 1. 1. 1. 1. 1. 1. 1.]\n",
      " [1. 1. 1. 1. 1. 1. 1. 1. 1. 1.]\n",
      " [1. 1. 1. 1. 1. 1. 1. 1. 1. 1.]\n",
      " [1. 1. 1. 1. 1. 1. 1. 1. 1. 1.]\n",
      " [1. 1. 1. 1. 1. 1. 1. 1. 1. 1.]\n",
      " [1. 1. 1. 1. 1. 1. 1. 1. 1. 1.]\n",
      " [1. 1. 1. 1. 1. 1. 1. 1. 1. 1.]\n",
      " [1. 1. 1. 1. 1. 1. 1. 1. 1. 1.]\n",
      " [1. 1. 1. 1. 1. 1. 1. 1. 1. 1.]\n",
      " [1. 1. 1. 1. 1. 1. 1. 1. 1. 1.]\n",
      " [1. 1. 1. 1. 1. 1. 1. 1. 1. 1.]\n",
      " [1. 1. 1. 1. 1. 1. 1. 1. 1. 1.]\n",
      " [1. 1. 1. 1. 1. 1. 1. 1. 1. 1.]\n",
      " [1. 1. 1. 1. 1. 1. 1. 1. 1. 1.]\n",
      " [1. 1. 1. 1. 1. 1. 1. 1. 1. 1.]\n",
      " [1. 1. 1. 1. 1. 1. 1. 1. 1. 1.]\n",
      " [1. 1. 1. 1. 1. 1. 1. 1. 1. 1.]\n",
      " [1. 1. 1. 1. 1. 1. 1. 1. 1. 1.]\n",
      " [1. 1. 1. 1. 1. 1. 1. 1. 1. 1.]\n",
      " [1. 1. 1. 1. 1. 1. 1. 1. 1. 1.]\n",
      " [1. 1. 1. 1. 1. 1. 1. 1. 1. 1.]\n",
      " [1. 1. 1. 1. 1. 1. 1. 1. 1. 1.]\n",
      " [1. 1. 1. 1. 1. 1. 1. 1. 1. 1.]\n",
      " [1. 1. 1. 1. 1. 1. 1. 1. 1. 1.]\n",
      " [1. 1. 1. 1. 1. 1. 1. 1. 1. 1.]\n",
      " [1. 1. 1. 1. 1. 1. 1. 1. 1. 1.]\n",
      " [1. 1. 1. 1. 1. 1. 1. 1. 1. 1.]\n",
      " [1. 1. 1. 1. 1. 1. 1. 1. 1. 1.]\n",
      " [1. 1. 1. 1. 1. 1. 1. 1. 1. 1.]\n",
      " [1. 1. 1. 1. 1. 1. 1. 1. 1. 1.]\n",
      " [1. 1. 1. 1. 1. 1. 1. 1. 1. 1.]\n",
      " [1. 1. 1. 1. 1. 1. 1. 1. 1. 1.]\n",
      " [1. 1. 1. 1. 1. 1. 1. 1. 1. 1.]\n",
      " [1. 1. 1. 1. 1. 1. 1. 1. 1. 1.]\n",
      " [1. 1. 1. 1. 1. 1. 1. 1. 1. 1.]\n",
      " [1. 1. 1. 1. 1. 1. 1. 1. 1. 1.]\n",
      " [1. 1. 1. 1. 1. 1. 1. 1. 1. 1.]\n",
      " [1. 1. 1. 1. 1. 1. 1. 1. 1. 1.]\n",
      " [1. 1. 1. 1. 1. 1. 1. 1. 1. 1.]\n",
      " [1. 1. 1. 1. 1. 1. 1. 1. 1. 1.]\n",
      " [1. 1. 1. 1. 1. 1. 1. 1. 1. 1.]\n",
      " [1. 1. 1. 1. 1. 1. 1. 1. 1. 1.]\n",
      " [1. 1. 1. 1. 1. 1. 1. 1. 1. 1.]\n",
      " [1. 1. 1. 1. 1. 1. 1. 1. 1. 1.]\n",
      " [1. 1. 1. 1. 1. 1. 1. 1. 1. 1.]\n",
      " [1. 1. 1. 1. 1. 1. 1. 1. 1. 1.]\n",
      " [1. 1. 1. 1. 1. 1. 1. 1. 1. 1.]\n",
      " [1. 1. 1. 1. 1. 1. 1. 1. 1. 1.]\n",
      " [1. 1. 1. 1. 1. 1. 1. 1. 1. 1.]\n",
      " [1. 1. 1. 1. 1. 1. 1. 1. 1. 1.]]\n"
     ]
    }
   ],
   "source": [
    "#init policy matrix\n",
    "Policy = init_pi(N_a,N_s)\n",
    "#init transition matrix\n",
    "P,Inds_nz = generate_dynamics(N_a,N_s,b)\n",
    "#init rewards\n",
    "R = init_rewards(N_a,N_s)\n",
    "#init state transition matrix\n",
    "S_trans = state_transitions(P,Policy)"
   ]
  },
  {
   "cell_type": "markdown",
   "metadata": {},
   "source": [
    "### Solve system to find $\\theta^*$ (i.e. true $V_{\\pi}(s)$)"
   ]
  },
  {
   "cell_type": "code",
   "execution_count": 8,
   "metadata": {},
   "outputs": [
    {
     "name": "stdout",
     "output_type": "stream",
     "text": [
      "[9.84953413 9.52818882 9.10077358 9.20650432 9.46348305 9.53415339\n",
      " 9.60132343 9.58224446 9.02248147 9.55440038 9.61889827 9.51152889\n",
      " 9.24885002 9.77558082 9.80059676 9.89326659 9.40835507 9.31492265\n",
      " 9.19517124 9.50103756 9.20002613 9.22017523 9.09961668 9.38826035\n",
      " 9.25805059 9.07006076 9.32369281 9.5107984  9.51615943 9.50436866\n",
      " 9.38564581 9.64467251 9.71316469 9.33079435 9.09258728 9.66603574\n",
      " 9.11930009 9.36024236 9.35390133 9.24264092 9.57049198 9.25693893\n",
      " 9.35382775 9.29097659 9.04836883 9.14591195 9.4543717  9.56269105\n",
      " 9.68137285 9.68337974]\n"
     ]
    }
   ],
   "source": [
    "#system matrix\n",
    "A = np.eye(N_s) - gamma*(S_trans.T)\n",
    "#right hand side\n",
    "b = np.sum(Policy*R,axis=0)\n",
    "theta_star_old = np.linalg.inv(A) @ b\n",
    "print(theta_star_old)"
   ]
  },
  {
   "cell_type": "markdown",
   "metadata": {},
   "source": [
    "### Find stationary distribution over state space"
   ]
  },
  {
   "cell_type": "code",
   "execution_count": 9,
   "metadata": {},
   "outputs": [
    {
     "name": "stdout",
     "output_type": "stream",
     "text": [
      "[ 1.        +0.j         -0.26430692+0.12903984j -0.26430692-0.12903984j\n",
      " -0.28404277+0.03470012j -0.28404277-0.03470012j -0.13168546+0.2269733j\n",
      " -0.13168546-0.2269733j   0.24202435+0.09985377j  0.24202435-0.09985377j\n",
      "  0.13218168+0.22116056j  0.13218168-0.22116056j  0.0566535 +0.23111173j\n",
      "  0.0566535 -0.23111173j  0.1641442 +0.1417069j   0.1641442 -0.1417069j\n",
      "  0.21104999+0.j          0.19396104+0.06409327j  0.19396104-0.06409327j\n",
      "  0.18542299+0.j          0.11909186+0.16312541j  0.11909186-0.16312541j\n",
      " -0.20534831+0.10750108j -0.20534831-0.10750108j -0.00321329+0.21593335j\n",
      " -0.00321329-0.21593335j -0.06451847+0.20039498j -0.06451847-0.20039498j\n",
      " -0.07494813+0.18662476j -0.07494813-0.18662476j  0.05846562+0.16833902j\n",
      "  0.05846562-0.16833902j -0.20275598+0.j         -0.14950415+0.07123611j\n",
      " -0.14950415-0.07123611j -0.16728513+0.j          0.01340965+0.15919804j\n",
      "  0.01340965-0.15919804j  0.12790264+0.j          0.07303261+0.09720718j\n",
      "  0.07303261-0.09720718j -0.03112849+0.09440118j -0.03112849-0.09440118j\n",
      " -0.02492401+0.08228834j -0.02492401-0.08228834j -0.09372501+0.j\n",
      " -0.08352664+0.j          0.05650244+0.00108439j  0.05650244-0.00108439j\n",
      " -0.02029534+0.01161504j -0.02029534-0.01161504j]\n",
      "[0.00609557 0.01256429 0.01758379 0.02846945 0.01650661 0.02232034\n",
      " 0.01764972 0.01836413 0.02052604 0.0169197  0.02042633 0.02464528\n",
      " 0.0286067  0.01740979 0.01215713 0.01966934 0.03114157 0.02476968\n",
      " 0.02056101 0.01390835 0.0289793  0.011834   0.02069773 0.02268115\n",
      " 0.02654292 0.0271129  0.02221969 0.01788068 0.03852186 0.02434913\n",
      " 0.0193267  0.02061831 0.01886658 0.01765171 0.01030513 0.01464193\n",
      " 0.02032358 0.01319325 0.01554977 0.01614873 0.01989349 0.01555932\n",
      " 0.02316574 0.01171257 0.02090212 0.02540777 0.01597746 0.02504254\n",
      " 0.02656083 0.01803828]\n",
      "1.0\n"
     ]
    }
   ],
   "source": [
    "#note that in my notations they are usual (right) eigenvalues\n",
    "eigvals, eigfuncs = np.linalg.eig(S_trans)\n",
    "print(eigvals)\n",
    "pi_states = -np.real(eigfuncs[:,0])\n",
    "pi_states = pi_states/np.sum(pi_states)\n",
    "#pi_states - statinary distribution over states\n",
    "print(pi_states)\n",
    "print(np.sum(pi_states))"
   ]
  },
  {
   "cell_type": "markdown",
   "metadata": {},
   "source": [
    "### Find $\\theta^*$ by another approach"
   ]
  },
  {
   "cell_type": "code",
   "execution_count": 10,
   "metadata": {},
   "outputs": [],
   "source": [
    "A_star = np.zeros((N_s,N_s),dtype=float)\n",
    "for i in range(N_s):\n",
    "    for j in range(N_s):\n",
    "        A_star[i,j] = pi_states[i]*S_trans[j,i]\n",
    "A_star = np.diag(pi_states) - gamma*A_star\n",
    "b_star = b*pi_states\n",
    "theta_star_new = np.linalg.inv(A_star) @ b_star\n",
    "#print(\"error between to True solutions: \",np.linalg.norm(theta_star-theta_star_new))"
   ]
  },
  {
   "cell_type": "markdown",
   "metadata": {},
   "source": [
    "### Find $\\theta^*$ for eligibility traces"
   ]
  },
  {
   "cell_type": "code",
   "execution_count": 11,
   "metadata": {},
   "outputs": [
    {
     "name": "stdout",
     "output_type": "stream",
     "text": [
      "[0.00808426 0.01285082 0.01170909 0.02176083 0.01588613 0.02483413\n",
      " 0.0198603  0.01868572 0.01266242 0.0197913  0.02456966 0.02609498\n",
      " 0.02172233 0.02238264 0.01548495 0.02801899 0.03122647 0.02391849\n",
      " 0.0157511  0.01481018 0.02423274 0.00809741 0.01296728 0.01933507\n",
      " 0.02217375 0.01602306 0.02167556 0.01733259 0.04120114 0.02482404\n",
      " 0.01754035 0.02203904 0.0227591  0.01569568 0.00668252 0.01683935\n",
      " 0.01265828 0.01151986 0.01287138 0.01240695 0.02104786 0.01163515\n",
      " 0.01899798 0.00942113 0.01151103 0.02010333 0.01674638 0.02801735\n",
      " 0.03190254 0.02185303]\n",
      "[0.03285338 0.0637148  0.08175653 0.13536277 0.08264727 0.11355754\n",
      " 0.09086673 0.09397152 0.09385352 0.08641578 0.10557799 0.1246464\n",
      " 0.13709169 0.09264265 0.06494005 0.106938   0.15449528 0.12074781\n",
      " 0.09755748 0.07023182 0.13788945 0.05630386 0.09610364 0.11178536\n",
      " 0.12760187 0.12512233 0.10853237 0.09027881 0.19505063 0.12290816\n",
      " 0.09531017 0.1067799  0.09913647 0.08609166 0.04781865 0.07623497\n",
      " 0.09471651 0.06470144 0.07611287 0.07730625 0.10167273 0.07465215\n",
      " 0.11330299 0.05662607 0.09597796 0.11945728 0.08001694 0.12801845\n",
      " 0.13880186 0.09432308]\n",
      "[9.84953413 9.52818882 9.10077358 9.20650432 9.46348305 9.53415339\n",
      " 9.60132343 9.58224446 9.02248147 9.55440038 9.61889827 9.51152889\n",
      " 9.24885002 9.77558082 9.80059676 9.89326659 9.40835507 9.31492265\n",
      " 9.19517124 9.50103756 9.20002613 9.22017523 9.09961668 9.38826035\n",
      " 9.25805059 9.07006076 9.32369281 9.5107984  9.51615943 9.50436866\n",
      " 9.38564581 9.64467251 9.71316469 9.33079435 9.09258728 9.66603574\n",
      " 9.11930009 9.36024236 9.35390133 9.24264092 9.57049198 9.25693893\n",
      " 9.35382775 9.29097659 9.04836883 9.14591195 9.4543717  9.56269105\n",
      " 9.68137285 9.68337974]\n"
     ]
    }
   ],
   "source": [
    "#lambda parameter\n",
    "TD_lambda = 0.9\n",
    "#compute eigval decomposition\n",
    "eigvals, eigfuncs = np.linalg.eig(S_trans.T)\n",
    "B_matr_diag = np.diag(np.ones(N_s)/(1-TD_lambda*gamma*eigvals))\n",
    "B_matr_diag_next = np.diag(eigvals/(np.ones(N_s)-TD_lambda*gamma*eigvals))\n",
    "b_star_new = (np.diag(pi_states)).dot(eigfuncs.dot(B_matr_diag.dot(np.linalg.inv(eigfuncs))))@b\n",
    "print(b_star)\n",
    "print(np.real(b_star_new))\n",
    "A_star_1 = (np.diag(pi_states)).dot(eigfuncs.dot(B_matr_diag.dot(np.linalg.inv(eigfuncs))))\n",
    "A_star_2 = (np.diag(pi_states)).dot(eigfuncs.dot(B_matr_diag_next.dot(np.linalg.inv(eigfuncs))))\n",
    "A_star_new = A_star_1 - gamma*A_star_2\n",
    "A_star_new = np.real(A_star_new)\n",
    "theta_star = np.linalg.inv(A_star_new) @ b_star_new\n",
    "theta_star = np.real(theta_star)\n",
    "print(theta_star)"
   ]
  },
  {
   "cell_type": "markdown",
   "metadata": {},
   "source": [
    "### Run TD$(\\lambda)$"
   ]
  },
  {
   "cell_type": "code",
   "execution_count": 12,
   "metadata": {},
   "outputs": [],
   "source": [
    "N_iters = 1*10**5\n",
    "v0 = np.zeros(N_s,dtype=float)\n",
    "s0 = np.random.choice(N_s)\n",
    "#step size\n",
    "alpha_0 = 1.0\n",
    "alpha = np.zeros(N_iters,dtype = float)\n",
    "N_0 = 2*10**4\n",
    "#powers = np.array([0.55,0.6,0.65,0.7,0.75,0.8,0.85,0.9],dtype=float)\n",
    "powers = np.array([0.55,0.6,0.65,0.7,0.75,0.8],dtype = float) #C = 300, N_0 = 2*10**4\n",
    "#powers = np.array([0.8,0.825,0.85,0.875,0.9,0.925,0.95])# C = 2000, N_0 = 10**4\n",
    "alpha = np.zeros((len(powers),N_iters),dtype=float)\n",
    "for j in range(len(powers)):\n",
    "    for i in range(N_iters):\n",
    "        alpha[j][i] = 300.0/(N_0+i)**(powers[j])"
   ]
  },
  {
   "cell_type": "code",
   "execution_count": 13,
   "metadata": {},
   "outputs": [
    {
     "name": "stdout",
     "output_type": "stream",
     "text": [
      "(10, 50)\n",
      "[1. 1. 1. 1. 1. 1. 1. 1. 1. 1. 1. 1. 1. 1. 1. 1. 1. 1. 1. 1. 1. 1. 1. 1.\n",
      " 1. 1. 1. 1. 1. 1. 1. 1. 1. 1. 1. 1. 1. 1. 1. 1. 1. 1. 1. 1. 1. 1. 1. 1.\n",
      " 1. 1.]\n"
     ]
    }
   ],
   "source": [
    "print(Policy.shape)\n",
    "print(Policy.sum(axis=0))"
   ]
  },
  {
   "cell_type": "code",
   "execution_count": 14,
   "metadata": {},
   "outputs": [],
   "source": [
    "def main_loop(j,alpha,s_0,N_traj):\n",
    "    V_funcs = np.zeros((N_traj,N_s))\n",
    "    J_0 = np.zeros((N_traj,N_s))\n",
    "    J_1 = np.zeros((N_traj,N_s))\n",
    "    Transient = np.zeros((N_traj,N_s))\n",
    "    np.random.seed(2020+j)\n",
    "    ###Main loop\n",
    "    for i in range(N_traj):\n",
    "        V = np.zeros(N_s,dtype=float)\n",
    "        J0_cur = np.zeros(N_s,dtype=float)\n",
    "        J1_cur = np.zeros(N_s,dtype=float)\n",
    "        Transient_cur = V - theta_star\n",
    "        s0 = s_0\n",
    "        D_n = np.zeros((N_s,1),dtype = float)\n",
    "        D_n[s0,0] = 1.0\n",
    "        for N in range(N_iters):\n",
    "            #sample action\n",
    "            a = np.random.choice(N_a, 1, replace=True, p=Policy[:,s0])\n",
    "            a=a[0]\n",
    "            #sample next state\n",
    "            s = np.random.choice(Inds_nz[s0,a], 1, replace=True, p=P[Inds_nz[s0,a],s0,a])\n",
    "            s=s[0]\n",
    "            #calculate A_bar\n",
    "            sec_vec = np.zeros((1,N_s),dtype = float)\n",
    "            sec_vec[0,s0] = 1.0\n",
    "            sec_vec[0,s] -= gamma\n",
    "            #calculate A_bar\n",
    "            A_bar = np.dot(D_n,sec_vec)\n",
    "            #calculate b_bar\n",
    "            b_bar = R[a,s0]*D_n[:,0]\n",
    "            #calculate TD(\\lambda) update and J_0\n",
    "            TD_update = -A_bar @ V + b_bar\n",
    "            eps_bar = b_bar - A_bar@theta_star\n",
    "            #calculate J1\n",
    "            J1_cur = (np.eye(N_s) - alpha[j][N]*A_star_new)@J1_cur - alpha[j][N]*(A_bar-A_star_new)@J0_cur\n",
    "            #calculate transient term\n",
    "            Transient_cur = (np.eye(N_s) - alpha[j][N]*A_bar)@Transient_cur\n",
    "            #calculate J0\n",
    "            J0_cur = (np.eye(N_s) - alpha[j][N]*A_star_new)@J0_cur + alpha[j][N]*eps_bar\n",
    "            #update V\n",
    "            V = V + alpha[j][N]*TD_update\n",
    "            #update eligibility traces\n",
    "            D_n = (TD_lambda*gamma)*D_n\n",
    "            D_n[s,0] = D_n[s,0]+1\n",
    "            #add some noise\n",
    "            D_n[:,0] += 0.1*np.random.randn(N_s)\n",
    "            #update current state\n",
    "            s0 = s\n",
    "        #save value function\n",
    "        V_funcs[i] = V\n",
    "        #save J_0\n",
    "        J_0[i] = J0_cur\n",
    "        #save J_1\n",
    "        J_1[i] = J1_cur\n",
    "        #save transient term\n",
    "        Transient[i] = Transient_cur\n",
    "    return np.asarray([V_funcs,J_0,J_1,Transient])  "
   ]
  },
  {
   "cell_type": "code",
   "execution_count": 15,
   "metadata": {},
   "outputs": [],
   "source": [
    "N_traj = 100\n",
    "nbcores = multiprocessing.cpu_count()\n",
    "trav = Pool(nbcores)\n",
    "res_indep = trav.starmap(main_loop, [(j,alpha,s0,N_traj) for j in range (len(powers))])\n",
    "trav.close()"
   ]
  },
  {
   "cell_type": "code",
   "execution_count": 16,
   "metadata": {},
   "outputs": [
    {
     "name": "stdout",
     "output_type": "stream",
     "text": [
      "(6, 4, 100, 50)\n"
     ]
    }
   ],
   "source": [
    "res_indep = np.asarray(res_indep)\n",
    "print(res_indep.shape)"
   ]
  },
  {
   "cell_type": "code",
   "execution_count": 17,
   "metadata": {},
   "outputs": [],
   "source": [
    "norms = np.zeros((len(powers),N_iters),dtype=float)\n",
    "norms_J0_rem = np.zeros((len(powers),N_iters),dtype=float)\n",
    "norms_J1_rem = np.zeros((len(powers),N_iters),dtype=float)\n",
    "norms_transient = np.zeros((len(powers),N_iters),dtype=float)\n",
    "\n",
    "norms_J0 = np.zeros((len(powers),N_traj),dtype=float)\n",
    "norms_J1 = np.zeros((len(powers),N_traj),dtype=float)\n",
    "norms_H0 = np.zeros((len(powers),N_traj),dtype=float)\n",
    "norms_H1 = np.zeros((len(powers),N_traj),dtype=float)\n",
    "for j in range(len(powers)):\n",
    "    for i in range(N_traj):\n",
    "        #norms[j][i] = np.linalg.norm(res_indep[j,0,i,:]-theta_star)\n",
    "        #norms_J0_rem[j][i] = np.linalg.norm(res_indep[j,0,i,:] - res_indep[j,1,i,:]-theta_star)\n",
    "        #norms_J1_rem[j][i] = np.linalg.norm(res_indep[j,0,i,:] - res_indep[j,1,i,:]-res_indep[j,2,i,:]-theta_star)\n",
    "        #norms_transient[j][i] = np.linalg.norm(res_indep[j,3,i,:])\n",
    "        norms_J0[j][i] = np.linalg.norm(res_indep[j,1,i,:])\n",
    "        norms_J1[j][i] = np.linalg.norm(res_indep[j,2,i,:])\n",
    "        norms_H0[j][i] = np.linalg.norm(res_indep[j,0,i,:] - res_indep[j,1,i,:]-theta_star-res_indep[j,3,i,:])\n",
    "        norms_H1[j][i] = np.linalg.norm(res_indep[j,0,i,:] - res_indep[j,1,i,:]-theta_star-res_indep[j,3,i,:]-res_indep[j,2,i,:])"
   ]
  },
  {
   "cell_type": "code",
   "execution_count": 18,
   "metadata": {},
   "outputs": [
    {
     "ename": "ValueError",
     "evalue": "x and y must have same first dimension, but have shapes (200000,) and (100000,)",
     "output_type": "error",
     "traceback": [
      "\u001b[0;31m---------------------------------------------------------------------------\u001b[0m",
      "\u001b[0;31mValueError\u001b[0m                                Traceback (most recent call last)",
      "\u001b[0;32m<ipython-input-18-a97c76158cf1>\u001b[0m in \u001b[0;36m<module>\u001b[0;34m\u001b[0m\n\u001b[1;32m      4\u001b[0m \u001b[0mj\u001b[0m \u001b[0;34m=\u001b[0m \u001b[0;36m3\u001b[0m\u001b[0;34m\u001b[0m\u001b[0;34m\u001b[0m\u001b[0m\n\u001b[1;32m      5\u001b[0m \u001b[0mplt\u001b[0m\u001b[0;34m.\u001b[0m\u001b[0mfigure\u001b[0m\u001b[0;34m(\u001b[0m\u001b[0mfigsize\u001b[0m\u001b[0;34m=\u001b[0m\u001b[0;34m(\u001b[0m\u001b[0;36m12\u001b[0m\u001b[0;34m,\u001b[0m\u001b[0;36m8\u001b[0m\u001b[0;34m)\u001b[0m\u001b[0;34m)\u001b[0m\u001b[0;34m\u001b[0m\u001b[0;34m\u001b[0m\u001b[0m\n\u001b[0;32m----> 6\u001b[0;31m \u001b[0mplt\u001b[0m\u001b[0;34m.\u001b[0m\u001b[0mplot\u001b[0m\u001b[0;34m(\u001b[0m\u001b[0mnp\u001b[0m\u001b[0;34m.\u001b[0m\u001b[0marange\u001b[0m\u001b[0;34m(\u001b[0m\u001b[0mN_start\u001b[0m\u001b[0;34m,\u001b[0m\u001b[0mN_last\u001b[0m\u001b[0;34m)\u001b[0m\u001b[0;34m,\u001b[0m \u001b[0mnorms\u001b[0m\u001b[0;34m[\u001b[0m\u001b[0mj\u001b[0m\u001b[0;34m]\u001b[0m\u001b[0;34m[\u001b[0m\u001b[0mN_start\u001b[0m\u001b[0;34m:\u001b[0m\u001b[0mN_last\u001b[0m\u001b[0;34m]\u001b[0m\u001b[0;34m,\u001b[0m \u001b[0mcolor\u001b[0m\u001b[0;34m=\u001b[0m\u001b[0;34m'r'\u001b[0m \u001b[0;34m,\u001b[0m\u001b[0mlabel\u001b[0m\u001b[0;34m=\u001b[0m\u001b[0;34m'MSE error, TD(0.9)'\u001b[0m\u001b[0;34m)\u001b[0m\u001b[0;34m\u001b[0m\u001b[0;34m\u001b[0m\u001b[0m\n\u001b[0m\u001b[1;32m      7\u001b[0m \u001b[0;31m#plt.plot(np.arange(N_start,N_last), norms_1[j][N_start:N_last], color='g' ,label='MSE error, TD(0.9)')\u001b[0m\u001b[0;34m\u001b[0m\u001b[0;34m\u001b[0m\u001b[0;34m\u001b[0m\u001b[0m\n\u001b[1;32m      8\u001b[0m \u001b[0mplt\u001b[0m\u001b[0;34m.\u001b[0m\u001b[0mplot\u001b[0m\u001b[0;34m(\u001b[0m\u001b[0mnp\u001b[0m\u001b[0;34m.\u001b[0m\u001b[0marange\u001b[0m\u001b[0;34m(\u001b[0m\u001b[0mN_start\u001b[0m\u001b[0;34m,\u001b[0m\u001b[0mN_iters\u001b[0m\u001b[0;34m)\u001b[0m\u001b[0;34m,\u001b[0m \u001b[0mnorms_J0_rem\u001b[0m\u001b[0;34m[\u001b[0m\u001b[0mj\u001b[0m\u001b[0;34m]\u001b[0m\u001b[0;34m[\u001b[0m\u001b[0mN_start\u001b[0m\u001b[0;34m:\u001b[0m\u001b[0;34m]\u001b[0m\u001b[0;34m,\u001b[0m \u001b[0mcolor\u001b[0m\u001b[0;34m=\u001b[0m\u001b[0;34m'g'\u001b[0m \u001b[0;34m,\u001b[0m\u001b[0mlabel\u001b[0m\u001b[0;34m=\u001b[0m\u001b[0;34m'MSE error without J_0'\u001b[0m\u001b[0;34m)\u001b[0m\u001b[0;34m\u001b[0m\u001b[0;34m\u001b[0m\u001b[0m\n",
      "\u001b[0;32m~/anaconda3/lib/python3.7/site-packages/matplotlib/pyplot.py\u001b[0m in \u001b[0;36mplot\u001b[0;34m(scalex, scaley, data, *args, **kwargs)\u001b[0m\n\u001b[1;32m   2793\u001b[0m     return gca().plot(\n\u001b[1;32m   2794\u001b[0m         *args, scalex=scalex, scaley=scaley, **({\"data\": data} if data\n\u001b[0;32m-> 2795\u001b[0;31m         is not None else {}), **kwargs)\n\u001b[0m\u001b[1;32m   2796\u001b[0m \u001b[0;34m\u001b[0m\u001b[0m\n\u001b[1;32m   2797\u001b[0m \u001b[0;34m\u001b[0m\u001b[0m\n",
      "\u001b[0;32m~/anaconda3/lib/python3.7/site-packages/matplotlib/axes/_axes.py\u001b[0m in \u001b[0;36mplot\u001b[0;34m(self, scalex, scaley, data, *args, **kwargs)\u001b[0m\n\u001b[1;32m   1664\u001b[0m         \"\"\"\n\u001b[1;32m   1665\u001b[0m         \u001b[0mkwargs\u001b[0m \u001b[0;34m=\u001b[0m \u001b[0mcbook\u001b[0m\u001b[0;34m.\u001b[0m\u001b[0mnormalize_kwargs\u001b[0m\u001b[0;34m(\u001b[0m\u001b[0mkwargs\u001b[0m\u001b[0;34m,\u001b[0m \u001b[0mmlines\u001b[0m\u001b[0;34m.\u001b[0m\u001b[0mLine2D\u001b[0m\u001b[0;34m.\u001b[0m\u001b[0m_alias_map\u001b[0m\u001b[0;34m)\u001b[0m\u001b[0;34m\u001b[0m\u001b[0;34m\u001b[0m\u001b[0m\n\u001b[0;32m-> 1666\u001b[0;31m         \u001b[0mlines\u001b[0m \u001b[0;34m=\u001b[0m \u001b[0;34m[\u001b[0m\u001b[0;34m*\u001b[0m\u001b[0mself\u001b[0m\u001b[0;34m.\u001b[0m\u001b[0m_get_lines\u001b[0m\u001b[0;34m(\u001b[0m\u001b[0;34m*\u001b[0m\u001b[0margs\u001b[0m\u001b[0;34m,\u001b[0m \u001b[0mdata\u001b[0m\u001b[0;34m=\u001b[0m\u001b[0mdata\u001b[0m\u001b[0;34m,\u001b[0m \u001b[0;34m**\u001b[0m\u001b[0mkwargs\u001b[0m\u001b[0;34m)\u001b[0m\u001b[0;34m]\u001b[0m\u001b[0;34m\u001b[0m\u001b[0;34m\u001b[0m\u001b[0m\n\u001b[0m\u001b[1;32m   1667\u001b[0m         \u001b[0;32mfor\u001b[0m \u001b[0mline\u001b[0m \u001b[0;32min\u001b[0m \u001b[0mlines\u001b[0m\u001b[0;34m:\u001b[0m\u001b[0;34m\u001b[0m\u001b[0;34m\u001b[0m\u001b[0m\n\u001b[1;32m   1668\u001b[0m             \u001b[0mself\u001b[0m\u001b[0;34m.\u001b[0m\u001b[0madd_line\u001b[0m\u001b[0;34m(\u001b[0m\u001b[0mline\u001b[0m\u001b[0;34m)\u001b[0m\u001b[0;34m\u001b[0m\u001b[0;34m\u001b[0m\u001b[0m\n",
      "\u001b[0;32m~/anaconda3/lib/python3.7/site-packages/matplotlib/axes/_base.py\u001b[0m in \u001b[0;36m__call__\u001b[0;34m(self, *args, **kwargs)\u001b[0m\n\u001b[1;32m    223\u001b[0m                 \u001b[0mthis\u001b[0m \u001b[0;34m+=\u001b[0m \u001b[0margs\u001b[0m\u001b[0;34m[\u001b[0m\u001b[0;36m0\u001b[0m\u001b[0;34m]\u001b[0m\u001b[0;34m,\u001b[0m\u001b[0;34m\u001b[0m\u001b[0;34m\u001b[0m\u001b[0m\n\u001b[1;32m    224\u001b[0m                 \u001b[0margs\u001b[0m \u001b[0;34m=\u001b[0m \u001b[0margs\u001b[0m\u001b[0;34m[\u001b[0m\u001b[0;36m1\u001b[0m\u001b[0;34m:\u001b[0m\u001b[0;34m]\u001b[0m\u001b[0;34m\u001b[0m\u001b[0;34m\u001b[0m\u001b[0m\n\u001b[0;32m--> 225\u001b[0;31m             \u001b[0;32myield\u001b[0m \u001b[0;32mfrom\u001b[0m \u001b[0mself\u001b[0m\u001b[0;34m.\u001b[0m\u001b[0m_plot_args\u001b[0m\u001b[0;34m(\u001b[0m\u001b[0mthis\u001b[0m\u001b[0;34m,\u001b[0m \u001b[0mkwargs\u001b[0m\u001b[0;34m)\u001b[0m\u001b[0;34m\u001b[0m\u001b[0;34m\u001b[0m\u001b[0m\n\u001b[0m\u001b[1;32m    226\u001b[0m \u001b[0;34m\u001b[0m\u001b[0m\n\u001b[1;32m    227\u001b[0m     \u001b[0;32mdef\u001b[0m \u001b[0mget_next_color\u001b[0m\u001b[0;34m(\u001b[0m\u001b[0mself\u001b[0m\u001b[0;34m)\u001b[0m\u001b[0;34m:\u001b[0m\u001b[0;34m\u001b[0m\u001b[0;34m\u001b[0m\u001b[0m\n",
      "\u001b[0;32m~/anaconda3/lib/python3.7/site-packages/matplotlib/axes/_base.py\u001b[0m in \u001b[0;36m_plot_args\u001b[0;34m(self, tup, kwargs)\u001b[0m\n\u001b[1;32m    389\u001b[0m             \u001b[0mx\u001b[0m\u001b[0;34m,\u001b[0m \u001b[0my\u001b[0m \u001b[0;34m=\u001b[0m \u001b[0mindex_of\u001b[0m\u001b[0;34m(\u001b[0m\u001b[0mtup\u001b[0m\u001b[0;34m[\u001b[0m\u001b[0;34m-\u001b[0m\u001b[0;36m1\u001b[0m\u001b[0;34m]\u001b[0m\u001b[0;34m)\u001b[0m\u001b[0;34m\u001b[0m\u001b[0;34m\u001b[0m\u001b[0m\n\u001b[1;32m    390\u001b[0m \u001b[0;34m\u001b[0m\u001b[0m\n\u001b[0;32m--> 391\u001b[0;31m         \u001b[0mx\u001b[0m\u001b[0;34m,\u001b[0m \u001b[0my\u001b[0m \u001b[0;34m=\u001b[0m \u001b[0mself\u001b[0m\u001b[0;34m.\u001b[0m\u001b[0m_xy_from_xy\u001b[0m\u001b[0;34m(\u001b[0m\u001b[0mx\u001b[0m\u001b[0;34m,\u001b[0m \u001b[0my\u001b[0m\u001b[0;34m)\u001b[0m\u001b[0;34m\u001b[0m\u001b[0;34m\u001b[0m\u001b[0m\n\u001b[0m\u001b[1;32m    392\u001b[0m \u001b[0;34m\u001b[0m\u001b[0m\n\u001b[1;32m    393\u001b[0m         \u001b[0;32mif\u001b[0m \u001b[0mself\u001b[0m\u001b[0;34m.\u001b[0m\u001b[0mcommand\u001b[0m \u001b[0;34m==\u001b[0m \u001b[0;34m'plot'\u001b[0m\u001b[0;34m:\u001b[0m\u001b[0;34m\u001b[0m\u001b[0;34m\u001b[0m\u001b[0m\n",
      "\u001b[0;32m~/anaconda3/lib/python3.7/site-packages/matplotlib/axes/_base.py\u001b[0m in \u001b[0;36m_xy_from_xy\u001b[0;34m(self, x, y)\u001b[0m\n\u001b[1;32m    268\u001b[0m         \u001b[0;32mif\u001b[0m \u001b[0mx\u001b[0m\u001b[0;34m.\u001b[0m\u001b[0mshape\u001b[0m\u001b[0;34m[\u001b[0m\u001b[0;36m0\u001b[0m\u001b[0;34m]\u001b[0m \u001b[0;34m!=\u001b[0m \u001b[0my\u001b[0m\u001b[0;34m.\u001b[0m\u001b[0mshape\u001b[0m\u001b[0;34m[\u001b[0m\u001b[0;36m0\u001b[0m\u001b[0;34m]\u001b[0m\u001b[0;34m:\u001b[0m\u001b[0;34m\u001b[0m\u001b[0;34m\u001b[0m\u001b[0m\n\u001b[1;32m    269\u001b[0m             raise ValueError(\"x and y must have same first dimension, but \"\n\u001b[0;32m--> 270\u001b[0;31m                              \"have shapes {} and {}\".format(x.shape, y.shape))\n\u001b[0m\u001b[1;32m    271\u001b[0m         \u001b[0;32mif\u001b[0m \u001b[0mx\u001b[0m\u001b[0;34m.\u001b[0m\u001b[0mndim\u001b[0m \u001b[0;34m>\u001b[0m \u001b[0;36m2\u001b[0m \u001b[0;32mor\u001b[0m \u001b[0my\u001b[0m\u001b[0;34m.\u001b[0m\u001b[0mndim\u001b[0m \u001b[0;34m>\u001b[0m \u001b[0;36m2\u001b[0m\u001b[0;34m:\u001b[0m\u001b[0;34m\u001b[0m\u001b[0;34m\u001b[0m\u001b[0m\n\u001b[1;32m    272\u001b[0m             raise ValueError(\"x and y can be no greater than 2-D, but have \"\n",
      "\u001b[0;31mValueError\u001b[0m: x and y must have same first dimension, but have shapes (200000,) and (100000,)"
     ]
    }
   ],
   "source": [
    "import matplotlib.pyplot as plt\n",
    "N_start = 0*10**5\n",
    "N_last = 2*10**5\n",
    "j = 3\n",
    "plt.figure(figsize=(12,8)) \n",
    "plt.plot(np.arange(N_start,N_last), norms[j][N_start:N_last], color='r' ,label='MSE error, TD(0.9)') \n",
    "#plt.plot(np.arange(N_start,N_last), norms_1[j][N_start:N_last], color='g' ,label='MSE error, TD(0.9)') \n",
    "plt.plot(np.arange(N_start,N_iters), norms_J0_rem[j][N_start:], color='g' ,label='MSE error without J_0') \n",
    "plt.plot(np.arange(N_start,N_iters), norms_J1_rem[j][N_start:], color='b' ,label='MSE error without J_0, J_1')\n",
    "#plt.xlabel('iteration number',fontsize = 18)\n",
    "#plt.ylabel('cost',fontsize = 18) \n",
    "#plt.title('VR cost for MDCV, Gaussian distribution, quadratic target',fontsize = 20)\n",
    "plt.yscale('log')\n",
    "plt.grid(linestyle='--', linewidth=1.0)\n",
    "#plt.legend() \n",
    "plt.show()\n",
    "#plt.savefig(\"pics/TD_lambda_MSE.pdf\")"
   ]
  },
  {
   "cell_type": "markdown",
   "metadata": {},
   "source": [
    "### Save results"
   ]
  },
  {
   "cell_type": "code",
   "execution_count": null,
   "metadata": {},
   "outputs": [],
   "source": [
    "import os\n",
    "if not os.path.exists(\"results_09_06_TD(lambda)_gamma_05\"):\n",
    "    os.makedirs(\"results_09_06_TD(lambda)_gamma_05\")"
   ]
  },
  {
   "cell_type": "code",
   "execution_count": null,
   "metadata": {},
   "outputs": [],
   "source": [
    "np.save(\"results_09_05_TD(lambda)_gamma_05/all_res.npy\",res_indep)\n",
    "#np.save(\"results_31_05_TD(0)_gamma_05/TD0_error.npy\",norms)\n",
    "#np.save(\"results_31_05_TD(0)_gamma_05/TD0_J0_remainder.npy\",norms_J0_rem)\n",
    "#np.save(\"results_31_05_TD(0)_gamma_05/TD0_J1_remainder.npy\",norms_J1_rem)\n",
    "#np.save(\"results_31_05_TD(0)_gamma_05/Transient.npy\",norms_transient)\n",
    "np.save(\"results_09_06_TD(lambda)_gamma_05/norms_J0.npy\",norms_J0)\n",
    "np.save(\"results_09_06_TD(lambda)_gamma_05/norms_J1.npy\",norms_J1)\n",
    "np.save(\"results_09_06_TD(lambda)_gamma_05/norms_H0.npy\",norms_H0)\n",
    "np.save(\"results_09_06_TD(lambda)_gamma_05/norms_H1.npy\",norms_H1)"
   ]
  },
  {
   "cell_type": "markdown",
   "metadata": {},
   "source": [
    "### Plot graphics"
   ]
  },
  {
   "cell_type": "code",
   "execution_count": null,
   "metadata": {},
   "outputs": [],
   "source": [
    "import matplotlib.pyplot as plt\n",
    "N_start = 2*10**4\n",
    "j = 3\n",
    "plt.figure(figsize=(12,8)) \n",
    "#plt.plot(np.arange(N_start,N_iters), norms[j][N_start:], color='r' ,label='MSE error') \n",
    "plt.plot(np.arange(N_start,N_iters), norms_J0[j][N_start:], color='m' ,label='norm J_0') \n",
    "plt.plot(np.arange(N_start,N_iters), norms_H0[j][N_start:], color='g' ,label='norm H_0') \n",
    "\n",
    "plt.plot(np.arange(N_start,N_iters), norms_J1[j][N_start:], color='b' ,label='norm J_1')\n",
    "plt.plot(np.arange(N_start,N_iters), norms_H1[j][N_start:], color='r' ,label='norm H_1')\n",
    "\n",
    "#plt.plot(np.arange(N_start,N_iters), norms_transient[j][N_start:], color='k' ,label='transient term')\n",
    "#plt.xlabel('iteration number',fontsize = 18)\n",
    "#plt.ylabel('cost',fontsize = 18) \n",
    "#plt.title('VR cost for MDCV, Gaussian distribution, quadratic target',fontsize = 20)\n",
    "plt.yscale('log')\n",
    "plt.grid(linestyle='--', linewidth=1.0)\n",
    "#plt.legend() \n",
    "plt.show()\n",
    "#plt.savefig(\"pics/TD_lambda_J_0_H_0_J_1_H_1.pdf\")"
   ]
  },
  {
   "cell_type": "markdown",
   "metadata": {},
   "source": [
    "### Calculate mean statistics"
   ]
  },
  {
   "cell_type": "code",
   "execution_count": null,
   "metadata": {},
   "outputs": [],
   "source": [
    "mean_norm_J0 = np.zeros(len(powers),dtype=float)\n",
    "mean_norm_J1 = np.zeros(len(powers),dtype = float)\n",
    "\n",
    "mean_norm_H0 = np.zeros(len(powers),dtype=float)\n",
    "mean_norm_H1 = np.zeros(len(powers),dtype=float)\n",
    "\n",
    "N_start = 0\n",
    "\n",
    "for j in range(len(powers)):\n",
    "    mean_norm_J0[j] = np.mean(norms_J0[j][N_start:]**2)\n",
    "    mean_norm_J1[j] = np.mean(norms_J1[j][N_start:]**2)\n",
    "    mean_norm_H0[j] = np.mean(norms_H0[j][N_start:]**2)\n",
    "    mean_norm_H1[j] = np.mean(norms_H1[j][N_start:]**2)"
   ]
  },
  {
   "cell_type": "code",
   "execution_count": null,
   "metadata": {},
   "outputs": [],
   "source": [
    "import matplotlib.pyplot as plt\n",
    "plt.figure(figsize=(12,8)) \n",
    "#plt.plot(powers, mean_norm_J0, linestyle='--', marker='o', color='r', label='J_0')\n",
    "#plt.plot(powers, 300.0/(N_0+10**5)**powers, linestyle='--', marker='o', color='g', label='predicted J_0')\n",
    "plt.plot(powers, mean_norm_J1, linestyle='--', marker='o', color='b',label='J_1') \n",
    "plt.plot(powers, (300.0/(N_0+10**5)**powers)**((3*powers-1)/powers), marker='o', color='g',label='J_1')\n",
    "#plt.plot(powers, np.exp(1-3*powers), linestyle='--', marker='o', color='g',label='J_1')\n",
    "#plt.plot(powers, mean_norm_H0, linestyle='--', marker='o', color='b', label='H_0') \n",
    "#plt.plot(powers, mean_norm_H1, linestyle='--', marker='o', color='m',label='H_1')\n",
    "plt.xlabel('iteration number',fontsize = 18)\n",
    "#plt.ylabel('cost',fontsize = 18) \n",
    "#plt.title('VR cost for MDCV, Gaussian distribution, quadratic target',fontsize = 20)\n",
    "plt.yscale('log')\n",
    "plt.legend() \n",
    "plt.show()"
   ]
  },
  {
   "cell_type": "code",
   "execution_count": null,
   "metadata": {},
   "outputs": [],
   "source": [
    "slope_J0, intercept_J0, r_value, p_value, std_err = stats.linregress(np.ones(len(powers)),np.log(mean_norm_J0) + powers)\n",
    "#slope_J1, intercept_J1, r_value, p_value, std_err = stats.linregress(powers,np.log(mean_norm_J1))\n",
    "#slope_H0, intercept_H0, r_value, p_value, std_err = stats.linregress(powers,np.log(mean_norm_H0))\n",
    "#slope_H1, intercept_H1, r_value, p_value, std_err = stats.linregress(powers,np.log(mean_norm_H1))\n",
    "print(slope_J0)\n",
    "print(intercept_J0)"
   ]
  },
  {
   "cell_type": "code",
   "execution_count": null,
   "metadata": {},
   "outputs": [],
   "source": [
    "import matplotlib.pyplot as plt\n",
    "plt.figure(figsize=(12,8)) \n",
    "#J_0\n",
    "plt.plot(powers, mean_norm_J0, linestyle='--', marker='o', color='r', label='J_0') \n",
    "#plt.plot(powers, np.exp(slope_J0*powers + intercept_J0), linestyle='--', marker='o', color='m',label='regressed J_0') \n",
    "#J_1\n",
    "plt.plot(powers, mean_norm_J1, linestyle='--', marker='o', color='g', label='J_1') \n",
    "#plt.plot(powers, np.exp(slope_J1*powers + intercept_J1), linestyle='--', marker='o', color='b',label='regressed J_1')\n",
    "#H_1\n",
    "plt.plot(powers, mean_norm_H1, linestyle='--', marker='o', color='b', label='H_1') \n",
    "#plt.plot(powers, np.exp(slope_H1*powers + intercept_H1), linestyle='--', marker='o', color='y',label='regressed H_1')\n",
    "#plt.xlabel('iteration number',fontsize = 18)\n",
    "#plt.ylabel('cost',fontsize = 18) \n",
    "#plt.title('VR cost for MDCV, Gaussian distribution, quadratic target',fontsize = 20)\n",
    "plt.yscale('log')\n",
    "plt.grid(linestyle='--', linewidth=1.0)\n",
    "plt.legend() \n",
    "#plt.show()\n",
    "plt.savefig(\"pics/TD_lambda_J_0_J_1_H_1_gamma_08.pdf\")"
   ]
  },
  {
   "cell_type": "code",
   "execution_count": null,
   "metadata": {},
   "outputs": [],
   "source": []
  }
 ],
 "metadata": {
  "kernelspec": {
   "display_name": "Python 3",
   "language": "python",
   "name": "python3"
  },
  "language_info": {
   "codemirror_mode": {
    "name": "ipython",
    "version": 3
   },
   "file_extension": ".py",
   "mimetype": "text/x-python",
   "name": "python",
   "nbconvert_exporter": "python",
   "pygments_lexer": "ipython3",
   "version": "3.7.3"
  }
 },
 "nbformat": 4,
 "nbformat_minor": 2
}
